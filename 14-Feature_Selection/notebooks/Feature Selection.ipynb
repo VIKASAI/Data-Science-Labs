{
 "cells": [
  {
   "cell_type": "markdown",
   "metadata": {
    "slideshow": {
     "slide_type": "slide"
    }
   },
   "source": [
    "<h1 align=\"center\">Feature Selection</h1>"
   ]
  },
  {
   "cell_type": "markdown",
   "metadata": {
    "slideshow": {
     "slide_type": "slide"
    }
   },
   "source": [
    "## Program so far\n",
    "\n",
    "***\n",
    "\n",
    "- Basics of Python\n",
    "- Descriptive and Inferential Statistics\n",
    "- Linear Regression\n",
    "- L1/L2 Regularization\n",
    "- Basic data cleaning and Preprocessing\n",
    "- Feature extraction and Feature engineering"
   ]
  },
  {
   "cell_type": "markdown",
   "metadata": {},
   "source": [
    "## What are we going to learn today ?\n",
    "***\n",
    "\n",
    "\n",
    "\n",
    "- What is Feature Selection\n",
    "- Importance of Feature Selection\n",
    "- Why to use Feature Selection \n",
    "- Types of Feature Selection\n",
    "\t- Univariate Feature Selection\n",
    "\t\t- Method 1: Removing features with low variance\n",
    "\t\t- Method 2: Pearson Correlation\n",
    "- Sklearn for Feature Selection\n",
    "- Feature Selection techniques\n",
    "\t- Filter Methods\n",
    "\t\t- Pearson's Correlation\n",
    "\t\t- LDA (Linear Discriminant Analysis)\n",
    "\t\t- ANOVA (Anaysis of Variance)\n",
    "\t\t- Chi-Square\n",
    "\t\t- Filter Method - Vulnerability\t\n",
    "\t- Wrapper Methods\n",
    "\t\t- Forward Feature Selection\n",
    "\t\t- Backward Feature Elimination / Recursive Feature Elimination\t\n",
    "\t- Embedded Methods\n",
    "\t- Difference between Filter and Wrapper methods\n",
    "    - Walk-through example"
   ]
  },
  {
   "cell_type": "markdown",
   "metadata": {
    "slideshow": {
     "slide_type": "subslide"
    }
   },
   "source": [
    "## What is Feature Selection?\n",
    "***\n",
    "* In machine learning and statistics, feature selection, also known as variable selection, attribute selection or variable subset selection, is the process of selecting a subset of relevant features (variables, predictors) for use in model construction."
   ]
  },
  {
   "cell_type": "markdown",
   "metadata": {
    "slideshow": {
     "slide_type": "subslide"
    }
   },
   "source": [
    "## Importance of Feature Selection\n",
    "***\n",
    "* This becomes even more important when the number of features are very large.\n",
    "* You need not use every feature at your disposal for creating an algorithm. \n",
    "* You can assist your algorithm by feeding in only those features that are really important."
   ]
  },
  {
   "cell_type": "markdown",
   "metadata": {
    "slideshow": {
     "slide_type": "subslide"
    }
   },
   "source": [
    "## Why to use feature selection?\n",
    "***\n",
    "- It enables the machine learning algorithm to **train faster**.\n",
    "- It **reduces the complexity** of a model and makes it easier to interpret.\n",
    "- It **improves the accuracy** of a model if the right subset is chosen.\n",
    "- It reduces **overfitting**."
   ]
  },
  {
   "cell_type": "markdown",
   "metadata": {
    "slideshow": {
     "slide_type": "slide"
    }
   },
   "source": [
    "# Types of Feature Selection\n",
    "***\n",
    "Different types of feature selection:-\n",
    "\n",
    "* Univariate Feature Selection\n",
    "* Multivariate Feature Selection\n"
   ]
  },
  {
   "cell_type": "markdown",
   "metadata": {
    "slideshow": {
     "slide_type": "slide"
    }
   },
   "source": [
    "<img src=\"../images/Technical-Stuff.png\" alt=\"Technical-Stuff\" style=\"width: 100px;float:left; margin-right:15px\"/>\n",
    "<br />\n",
    "\n",
    "## Univariate Feature Selection (1/2)\n",
    "***\n",
    "\n",
    "* Univariate feature selection methods examine -\n",
    "    - the predictive power of individual features\n",
    "    - the strength of the relationship of the feature with the response variable\n",
    "* These methods are simple to run and understand\n",
    "* They also prove to be good for gaining a better understanding of data, and can often be the starting point for multivariate feature selection methods"
   ]
  },
  {
   "cell_type": "markdown",
   "metadata": {
    "slideshow": {
     "slide_type": "subslide"
    }
   },
   "source": [
    "<img src=\"../images/Technical-Stuff.png\" alt=\"Technical-Stuff\" style=\"width: 100px;float:left; margin-right:15px\"/>\n",
    "<br />\n",
    "\n",
    "## Univariate Feature Selection (2/2)\n",
    "***\n",
    "\n",
    "* We can look at the interaction between the top variables instead of all possible combinations\n",
    "* These methods are not necessarily good for optimizing the feature set for better generalization"
   ]
  },
  {
   "cell_type": "markdown",
   "metadata": {
    "slideshow": {
     "slide_type": "subslide"
    }
   },
   "source": [
    "### Method 1 : Removing features with low variance \n",
    "***\n",
    "* One of the most basic, yet a very powerful feature selection technique is to remove features with low variance. \n",
    "* We want to remove all features whose variance doesn't meet some threshold\n",
    "* For example, a feature with 0 variance means it has the same value for every sample. This means that such a feature would not bring any predictive power to the model. \n",
    "* Hence, we should remove all such zero-variance features"
   ]
  },
  {
   "cell_type": "markdown",
   "metadata": {
    "slideshow": {
     "slide_type": "subslide"
    }
   },
   "source": [
    "\n",
    "### Example on code\n",
    "***\n",
    "* Let's take a dataset with boolean features, and we want to remove all features that are either one or zero (on or off) in more than 80% of the samples. How do we that?\n",
    "\n",
    "* Answer : Boolean features are Bernoulli random variables, and the variance of such variables is given by \n",
    "    $$ Var(x) = p(1-p) $$\n",
    "\n",
    "* *from sklearn.feature_selection import VarianceThreshold*   is a handy method to remove such features\n"
   ]
  },
  {
   "cell_type": "code",
   "execution_count": 52,
   "metadata": {
    "slideshow": {
     "slide_type": "slide"
    }
   },
   "outputs": [
    {
     "data": {
      "text/plain": [
       "array([[0, 1],\n",
       "       [1, 0],\n",
       "       [0, 0],\n",
       "       [1, 1],\n",
       "       [1, 0],\n",
       "       [1, 1]])"
      ]
     },
     "execution_count": 52,
     "metadata": {},
     "output_type": "execute_result"
    }
   ],
   "source": [
    "from sklearn.feature_selection import VarianceThreshold\n",
    "X = [[0, 0, 1], [0, 1, 0], [1, 0, 0], [0, 1, 1], [0, 1, 0], [0, 1, 1]]\n",
    "sel = VarianceThreshold(threshold=(.8 * (1 - .8)))\n",
    "sel.fit_transform(X)"
   ]
  },
  {
   "cell_type": "markdown",
   "metadata": {
    "slideshow": {
     "slide_type": "slide"
    }
   },
   "source": [
    "### Method 2 : Pearson Correlation\n",
    "***\n",
    "* Another method is using Pearson Correlation\n",
    "* The population correlation coefficient  $ρ_{(X,Y)}$  between two random variables  X and  Y with expected values  $μ_X$  and  $μ_Y$  and standard deviations  $σ_X$ and  $σ_Y$.\n",
    "* It is used as a measure for quantifying linear dependence between two continuous variables X and Y. Its value varies from -1 to +1. Pearson’s correlation is given as:\n",
    "$$ \\rho_{X,Y} = corr(X,Y) = \\frac{cov(X,Y)}{\\sigma_{X}\\sigma_{X}} = \\frac{E[(X-\\mu_{X})(Y-\\mu_{Y})]}{\\sigma_{X}\\sigma_{X}} $$ <br/>\n",
    "   \n",
    "* where E is the expected value operator, cov means covariance, and corr is a widely used alternative notation for the correlation coefficient."
   ]
  },
  {
   "cell_type": "markdown",
   "metadata": {
    "slideshow": {
     "slide_type": "subslide"
    }
   },
   "source": [
    "### Pearson Correlation\n",
    "***\n",
    "* One of the simplest method for understanding a feature's relation to the response variable is Pearson correlation coefficient, which measures linear correlation between two variables\n",
    "* Scipy's Pearson's method computes both the correlation and p-value for the correlation, roughly showing the probability of an uncorrelated system creating a correlation value of this magnitude."
   ]
  },
  {
   "cell_type": "code",
   "execution_count": 53,
   "metadata": {
    "slideshow": {
     "slide_type": "subslide"
    }
   },
   "outputs": [
    {
     "name": "stdout",
     "output_type": "stream",
     "text": [
      "(0.21333063767622742, 1.17375867228044e-15)\n",
      "(0.2529214590904538, 1.4393180302090238e-21)\n",
      "(0.7872278260873349, 2.1445443005885547e-291)\n",
      "(-0.0952777413224411, 0.0003956290615016182)\n",
      "(0.5075840635608162, 3.4952090879764857e-91)\n",
      "(0.5054340608594549, 2.6380742157957248e-90)\n",
      "(0.46313912358889814, 2.9820001700080498e-74)\n",
      "(0.37556275564606306, 1.9661359169716295e-47)\n",
      "(-0.023242905914850134, 0.3884363404853646)\n",
      "(0.21313492312249654, 1.2477039987503075e-15)\n",
      "(0.6035834052193846, 1.2138812661326489e-137)\n",
      "(0.5949352701531119, 8.443442692466083e-133)\n",
      "(0.3133355898234007, 8.586805601804292e-33)\n",
      "(-0.00836439519630622, 0.756306487270347)\n",
      "(0.708172113954018, 2.0881561463430674e-210)\n",
      "(0.2259880120602367, 1.9869617037193285e-17)\n",
      "(-0.02565087567084923, 0.3411805469578919)\n",
      "(0.5565503021306587, 5.531853884328958e-113)\n",
      "(0.2707212077054507, 1.3703337439160485e-24)\n",
      "(0.1646549492106765, 7.703213398827432e-10)\n",
      "(-0.13557396150699427, 4.3422728354803543e-07)\n",
      "(0.5383091241374475, 1.931915358586909e-104)\n",
      "(0.44887748284169326, 2.5042755626004497e-69)\n",
      "(0.48636167748786086, 8.705127942142482e-83)\n",
      "(0.6370954062078927, 6.83572621452581e-158)\n",
      "(0.6084052829168348, 2.0850476172646518e-140)\n",
      "(0.3126314265803959, 1.204777892747019e-32)\n",
      "(0.33303619489006697, 4.523774860453486e-37)\n",
      "(-0.12016443034823453, 7.6601775525165e-06)\n",
      "(0.03922634661259662, 0.1454187660954464)\n",
      "(0.09945281380942717, 0.00021645590170502637)\n",
      "(0.09151838619033485, 0.0006675138102752847)\n",
      "(-0.017933385824593837, 0.5057921939945347)\n",
      "(-0.026725513200267035, 0.32133114489397774)\n"
     ]
    }
   ],
   "source": [
    "from scipy.stats import pearsonr\n",
    "import pandas as pd\n",
    "import numpy as np\n",
    "\n",
    "iowa = pd.read_csv('../data/house_prices_multivariate.csv')\n",
    "\n",
    "X = iowa.iloc[:,:-1]\n",
    "y = iowa.iloc[:,-1]\n",
    "\n",
    "for i in X.columns:\n",
    "    print(pearsonr(X[i],y))"
   ]
  },
  {
   "cell_type": "markdown",
   "metadata": {
    "slideshow": {
     "slide_type": "subslide"
    }
   },
   "source": [
    "### Pearson Correlation\n",
    "***\n",
    "* With smaller amount of noise, the correlation is relatively strong, with a very low p-value\n",
    "* However, for the noisy comparison, the correlation is very small and p-value is very high\n",
    "* The p-value roughly indicates the probability of an uncorrelated system producing datasets that have a Pearson correlation at least as extreme as the one computed from these datasets"
   ]
  },
  {
   "cell_type": "markdown",
   "metadata": {
    "slideshow": {
     "slide_type": "subslide"
    }
   },
   "source": [
    "### Pearson Correlation: \n",
    "***\n",
    "* Pearson correlation is the ratio of co-variance of two variables to the product of standard deviation of the variables\n",
    "* The correlation coefficient has values between -1 to 1\n",
    "    - A value closer to 0 implies weaker correlation (exact 0 implying no correlation)\n",
    "    - A value closer to 1 implies stronger positive correlation\n",
    "    - A value closer to -1 implies stronger negative correlation\n"
   ]
  },
  {
   "cell_type": "markdown",
   "metadata": {
    "slideshow": {
     "slide_type": "subslide"
    }
   },
   "source": [
    "### Pearson Correlation\n",
    "***\n",
    "**Correlation is not Transitive:**\n",
    "\n",
    "* Let  X,  Y and  Z be random variables.\n",
    "    - $\\rho_{X,Y}$ > 0.8\n",
    "    - $\\rho_{Y,Z}$ > 0.7\n",
    "\n",
    "* Can we say  $\\rho_{Y,Z}$  will be strongly positive?\n"
   ]
  },
  {
   "cell_type": "markdown",
   "metadata": {
    "slideshow": {
     "slide_type": "subslide"
    }
   },
   "source": [
    "### Pearson Correlation\n",
    "***\n",
    "**Correlation is not Transitive:**\n",
    "\n",
    "* Not really! \n",
    "* $\\rho_{X,Z}$ will be positive if $\\rho_{X,Y}$ and $\\rho_{Y,Z}$ are very close to 1\n",
    "* Mathematically speaking:\n",
    "$$ \\rho_{X,Y} = \\rho_{Y,Z}\\ast \\rho_{Z,X}-\\sqrt{(1-\\rho_{Y,Z}^2)\\ast (1-\\rho_{Z,X}^2)} $$\n"
   ]
  },
  {
   "cell_type": "markdown",
   "metadata": {
    "slideshow": {
     "slide_type": "subslide"
    }
   },
   "source": [
    "### Pearson Correlation\n",
    "***\n",
    "**Sensitivity to Outliers:**\n",
    "Once again:\n",
    "$$ \\rho_{X,Y} = corr(X,Y) = \\frac{cov(X,Y)}{\\sigma_{X}\\sigma_{X}} = \\frac{E[(X-\\mu_{X})(Y-\\mu_{Y})]}{\\sigma_{X}\\sigma_{X}} $$ <br/>\n",
    "\n",
    "* Means themselves are sensitive to outliers\n",
    "* The correlation too will be sensitive to outliers"
   ]
  },
  {
   "cell_type": "markdown",
   "metadata": {
    "slideshow": {
     "slide_type": "subslide"
    }
   },
   "source": [
    "### Pearson Correlation\n",
    "***\n",
    "**Correlation doesn't capture nonlinear relationships**\n",
    " \n",
    "* One obvious drawback of Pearson correlation as a feature ranking mechanism is that it is only sensitive to a linear relationship.\n",
    "* If the relationship is non-linear, Pearson correlation can be close to zero even if there is a 1 to 1 correspondence between the two variables.\n"
   ]
  },
  {
   "cell_type": "markdown",
   "metadata": {},
   "source": [
    "### Pearson Correlation\n",
    "***\n",
    "**Correlation doesn't capture nonlinear relationships**\n",
    "\n",
    "![FS6.JPG](../images/FS6.JPG)\n",
    "<br/>\n",
    "Image Source : https://aostrading.cz/mira-korelace-v-tradingu/\n"
   ]
  },
  {
   "cell_type": "markdown",
   "metadata": {
    "slideshow": {
     "slide_type": "subslide"
    }
   },
   "source": [
    "### Pearson Correlation\n",
    "***\n",
    "**Correlation doesn't capture nonlinear relationships**\n",
    " \n",
    "* In the image in the above, there are several sets of (x, y) points, with the Pearson correlation coefficient of x and y for each set dispalyed on top of each plotting\n",
    "* Note that the correlation reflects the **noisiness and direction of a linear relationship** (top row), but **not the slope of that relationship (middle), nor many aspects of nonlinear relationships (bottom)**.\n"
   ]
  },
  {
   "cell_type": "markdown",
   "metadata": {
    "slideshow": {
     "slide_type": "slide"
    }
   },
   "source": [
    "<img src=\"../images/Technical-Stuff.png\" alt=\"Technical-Stuff\" style=\"width: 100px;float:left; margin-right:15px\"/>\n",
    "<br />\n",
    "\n",
    "## Sklearn for Feature Selection\n",
    "***\n",
    "\n",
    "* Scikit-learn has a wide variety of functions for eliminating features based information-criteria. \n",
    "* For performing univariate feature selection, we need to specify two parameters\n",
    "    - Selection criteria\n",
    "    - Metric to be used for selection\n",
    "\n"
   ]
  },
  {
   "cell_type": "markdown",
   "metadata": {
    "slideshow": {
     "slide_type": "subslide"
    }
   },
   "source": [
    "**Sklearn for Feature Selection**\n",
    "##### Selection Criteria\n",
    "* SelectKBest: Removes all but the k highest scoring features\n",
    "* SelectPercentile: Removes all but a user-specified highest scoring percentage of features\n"
   ]
  },
  {
   "cell_type": "markdown",
   "metadata": {
    "slideshow": {
     "slide_type": "subslide"
    }
   },
   "source": [
    "**Sklearn for Feature Selection**\n",
    "##### Regression\n",
    "* **f_regression**: The methods based on F-test estimate the degree of linear dependency between two random variables.\n",
    "* **Mutual_info_regression**: Mutual information methods can capture any kind of statistical dependency, but being nonparametric, they require more samples for accurate estimation\n"
   ]
  },
  {
   "cell_type": "markdown",
   "metadata": {
    "slideshow": {
     "slide_type": "subslide"
    }
   },
   "source": [
    "** Sklearn for Feature Selection**\n",
    "##### Selection Metric\n",
    "##### Classification\n",
    "\n",
    "* **chi2**: Based on Chi Squared\n",
    "* **F_classif**: Based on f-test\n",
    "* **Mutual_info_classif**: Based on Mutual Information Theory"
   ]
  },
  {
   "cell_type": "markdown",
   "metadata": {
    "slideshow": {
     "slide_type": "subslide"
    }
   },
   "source": [
    "Let's understand how f-test and mutual information behave differently. Let's start by creating a toy dataset, in which y depends on three components: a linear, a non-linear and a random.\n",
    "\n",
    "$y = x_1 + sin(5 * pi * x_2) + 0.1 * N(0, 1)$"
   ]
  },
  {
   "cell_type": "code",
   "execution_count": 54,
   "metadata": {
    "slideshow": {
     "slide_type": "subslide"
    }
   },
   "outputs": [],
   "source": [
    "import numpy as np\n",
    "import matplotlib.pyplot as plt\n",
    "\n",
    "np.random.seed(67)\n",
    "X = np.random.rand(1000, 3)\n",
    "y = X[:, 0] + np.sin(5* np.pi * X[:, 1]) + 0.1 * np.random.randn(1000)"
   ]
  },
  {
   "cell_type": "markdown",
   "metadata": {},
   "source": [
    "Now, let's calculate the important scores of the features and normalize them so that they can be compared with each other."
   ]
  },
  {
   "cell_type": "code",
   "execution_count": 55,
   "metadata": {
    "slideshow": {
     "slide_type": "subslide"
    }
   },
   "outputs": [],
   "source": [
    "from sklearn.feature_selection import f_regression, mutual_info_regression\n",
    "\n",
    "f_test, _ = f_regression(X, y)\n",
    "f_test /= np.max(f_test)\n",
    "\n",
    "mi = mutual_info_regression(X, y)\n",
    "mi /= np.max(mi)"
   ]
  },
  {
   "cell_type": "code",
   "execution_count": 56,
   "metadata": {
    "slideshow": {
     "slide_type": "subslide"
    }
   },
   "outputs": [
    {
     "data": {
      "text/plain": [
       "array([1.00000000e+00, 8.85853745e-04, 1.14290255e-04])"
      ]
     },
     "execution_count": 56,
     "metadata": {},
     "output_type": "execute_result"
    }
   ],
   "source": [
    "f_test"
   ]
  },
  {
   "cell_type": "code",
   "execution_count": 57,
   "metadata": {
    "slideshow": {
     "slide_type": "subslide"
    }
   },
   "outputs": [
    {
     "data": {
      "text/plain": [
       "array([0.26872014, 1.        , 0.        ])"
      ]
     },
     "execution_count": 57,
     "metadata": {},
     "output_type": "execute_result"
    }
   ],
   "source": [
    "mi"
   ]
  },
  {
   "cell_type": "markdown",
   "metadata": {
    "slideshow": {
     "slide_type": "subslide"
    }
   },
   "source": [
    "Now, let's plot these values and compare them."
   ]
  },
  {
   "cell_type": "code",
   "execution_count": 58,
   "metadata": {
    "slideshow": {
     "slide_type": "subslide"
    }
   },
   "outputs": [
    {
     "data": {
      "image/png": "[encoded data removed]",
      "text/plain": [
       "<Figure size 1080x360 with 3 Axes>"
      ]
     },
     "metadata": {},
     "output_type": "display_data"
    }
   ],
   "source": [
    "plt.figure(figsize=(15, 5))\n",
    "for i in range(3):\n",
    "    plt.subplot(1, 3, i + 1)\n",
    "    plt.scatter(X[:, i], y)\n",
    "    plt.xlabel(\"$x_{}$\".format(i + 1), fontsize=14)\n",
    "    if i == 0:\n",
    "        plt.ylabel(\"$y$\", fontsize=14)\n",
    "    plt.title(\"F-test={:.2f}, MI={:.2f}\".format(f_test[i], mi[i]),\n",
    "              fontsize=16)\n",
    "plt.show()"
   ]
  },
  {
   "cell_type": "markdown",
   "metadata": {
    "slideshow": {
     "slide_type": "subslide"
    }
   },
   "source": [
    "We can clearly see how f-test can only capture the linear relationship, whereas MI can capture non-linear relationships as well. You can vary the coefficient of the `sin` component to examine how the MI behaves when the coefficient is made sufficiently low."
   ]
  },
  {
   "cell_type": "markdown",
   "metadata": {
    "slideshow": {
     "slide_type": "subslide"
    }
   },
   "source": [
    "### Let's look at some methodologies and techniques  to subset  feature space and make models perform better and efficiently.\n",
    "***\n",
    "<br/>\n",
    "These include :\n",
    "- Filter Methods\n",
    "- Wrapper Methods\n",
    "- Embedded Methods"
   ]
  },
  {
   "cell_type": "markdown",
   "metadata": {
    "slideshow": {
     "slide_type": "slide"
    }
   },
   "source": [
    "<img src=\"../images/Technical-Stuff.png\" alt=\"Technical-Stuff\" style=\"width: 100px;float:left; margin-right:15px\"/>\n",
    "<br />\n",
    "\n",
    "##  Filter Methods\n",
    "***\n",
    "\n",
    "![Filter_1.png](../images/Filter_1.png)\n",
    "Image Source : https://www.analyticsvidhya.com/blog/2016/12/introduction-to-feature-selection-methods-with-an-example-or-how-to-select-the-right-variables/\n",
    "\n",
    "* Filter methods are generally used as a preprocessing step. The selection of features is independent of any machine learning algorithms. \n",
    "* Instead, features are selected on the basis of their scores in various statistical tests for their correlation with the outcome variable. The correlation is a subjective term here.\n",
    "* Examples that we just saw above, are some of the filter method techniques.\n",
    "* For basic guidance, you can refer to the following table for defining correlation co-efficients."
   ]
  },
  {
   "cell_type": "markdown",
   "metadata": {
    "slideshow": {
     "slide_type": "slide"
    }
   },
   "source": [
    "##  Filter Methods\n",
    "\n",
    "![FS1.png](../images/FS1.png)\n",
    "[Source: An Analysis of Feature Selection Techniques](http://syllabus.cs.manchester.ac.uk/pgt/2017/COMP61011/goodProjects/Shardlow.pdf)"
   ]
  },
  {
   "cell_type": "markdown",
   "metadata": {
    "slideshow": {
     "slide_type": "subslide"
    }
   },
   "source": [
    "##  Filter Methods  - Pearson's Correlation\n",
    "***\n",
    "**Pearson’s Correlation**: It is used as a measure for quantifying linear dependence between two continuous variables X and Y. Its value varies from -1 to +1. Pearson's correlation is given as:\n",
    "\n",
    "$$ \\rho_{X,Y} = corr(X,Y) = \\frac{cov(X,Y)}{\\sigma_{X}\\sigma_{X}} $$"
   ]
  },
  {
   "cell_type": "code",
   "execution_count": 59,
   "metadata": {
    "slideshow": {
     "slide_type": "slide"
    }
   },
   "outputs": [
    {
     "data": {
      "text/html": [
       "<div>\n",
       "<style scoped>\n",
       "    .dataframe tbody tr th:only-of-type {\n",
       "        vertical-align: middle;\n",
       "    }\n",
       "\n",
       "    .dataframe tbody tr th {\n",
       "        vertical-align: top;\n",
       "    }\n",
       "\n",
       "    .dataframe thead th {\n",
       "        text-align: right;\n",
       "    }\n",
       "</style>\n",
       "<table border=\"1\" class=\"dataframe\">\n",
       "  <thead>\n",
       "    <tr style=\"text-align: right;\">\n",
       "      <th></th>\n",
       "      <th>LotFrontage</th>\n",
       "      <th>LotArea</th>\n",
       "      <th>OverallQual</th>\n",
       "      <th>OverallCond</th>\n",
       "      <th>YearBuilt</th>\n",
       "      <th>YearRemodAdd</th>\n",
       "      <th>MasVnrArea</th>\n",
       "      <th>BsmtFinSF1</th>\n",
       "      <th>BsmtFinSF2</th>\n",
       "      <th>BsmtUnfSF</th>\n",
       "      <th>...</th>\n",
       "      <th>GarageArea</th>\n",
       "      <th>WoodDeckSF</th>\n",
       "      <th>OpenPorchSF</th>\n",
       "      <th>EnclosedPorch</th>\n",
       "      <th>3SsnPorch</th>\n",
       "      <th>ScreenPorch</th>\n",
       "      <th>PoolArea</th>\n",
       "      <th>MiscVal</th>\n",
       "      <th>YrSold</th>\n",
       "      <th>SalePrice</th>\n",
       "    </tr>\n",
       "  </thead>\n",
       "  <tbody>\n",
       "    <tr>\n",
       "      <th>LotFrontage</th>\n",
       "      <td>1.000000</td>\n",
       "      <td>0.096486</td>\n",
       "      <td>0.181773</td>\n",
       "      <td>-0.055003</td>\n",
       "      <td>0.036465</td>\n",
       "      <td>0.078981</td>\n",
       "      <td>0.105703</td>\n",
       "      <td>0.081660</td>\n",
       "      <td>-0.011105</td>\n",
       "      <td>0.155099</td>\n",
       "      <td>...</td>\n",
       "      <td>0.231974</td>\n",
       "      <td>-0.021568</td>\n",
       "      <td>0.073032</td>\n",
       "      <td>0.026765</td>\n",
       "      <td>0.023441</td>\n",
       "      <td>0.022293</td>\n",
       "      <td>0.115886</td>\n",
       "      <td>-0.064162</td>\n",
       "      <td>-0.014347</td>\n",
       "      <td>0.213331</td>\n",
       "    </tr>\n",
       "    <tr>\n",
       "      <th>LotArea</th>\n",
       "      <td>0.096486</td>\n",
       "      <td>1.000000</td>\n",
       "      <td>0.090016</td>\n",
       "      <td>-0.002869</td>\n",
       "      <td>-0.005921</td>\n",
       "      <td>0.002764</td>\n",
       "      <td>0.095510</td>\n",
       "      <td>0.210145</td>\n",
       "      <td>0.110011</td>\n",
       "      <td>-0.009707</td>\n",
       "      <td>...</td>\n",
       "      <td>0.167622</td>\n",
       "      <td>0.166600</td>\n",
       "      <td>0.085056</td>\n",
       "      <td>-0.013427</td>\n",
       "      <td>0.018443</td>\n",
       "      <td>0.038605</td>\n",
       "      <td>0.076868</td>\n",
       "      <td>0.040288</td>\n",
       "      <td>-0.013797</td>\n",
       "      <td>0.252921</td>\n",
       "    </tr>\n",
       "    <tr>\n",
       "      <th>OverallQual</th>\n",
       "      <td>0.181773</td>\n",
       "      <td>0.090016</td>\n",
       "      <td>1.000000</td>\n",
       "      <td>-0.136232</td>\n",
       "      <td>0.572082</td>\n",
       "      <td>0.557772</td>\n",
       "      <td>0.398334</td>\n",
       "      <td>0.223690</td>\n",
       "      <td>-0.073166</td>\n",
       "      <td>0.318552</td>\n",
       "      <td>...</td>\n",
       "      <td>0.528107</td>\n",
       "      <td>0.227272</td>\n",
       "      <td>0.319045</td>\n",
       "      <td>-0.106609</td>\n",
       "      <td>0.024314</td>\n",
       "      <td>0.050580</td>\n",
       "      <td>0.064305</td>\n",
       "      <td>-0.029078</td>\n",
       "      <td>-0.019273</td>\n",
       "      <td>0.787228</td>\n",
       "    </tr>\n",
       "    <tr>\n",
       "      <th>OverallCond</th>\n",
       "      <td>-0.055003</td>\n",
       "      <td>-0.002869</td>\n",
       "      <td>-0.136232</td>\n",
       "      <td>1.000000</td>\n",
       "      <td>-0.403602</td>\n",
       "      <td>0.048340</td>\n",
       "      <td>-0.132515</td>\n",
       "      <td>-0.050818</td>\n",
       "      <td>0.038770</td>\n",
       "      <td>-0.140730</td>\n",
       "      <td>...</td>\n",
       "      <td>-0.196678</td>\n",
       "      <td>-0.005638</td>\n",
       "      <td>-0.053090</td>\n",
       "      <td>0.063196</td>\n",
       "      <td>0.026735</td>\n",
       "      <td>0.057507</td>\n",
       "      <td>-0.002274</td>\n",
       "      <td>0.079088</td>\n",
       "      <td>0.050309</td>\n",
       "      <td>-0.095278</td>\n",
       "    </tr>\n",
       "    <tr>\n",
       "      <th>YearBuilt</th>\n",
       "      <td>0.036465</td>\n",
       "      <td>-0.005921</td>\n",
       "      <td>0.572082</td>\n",
       "      <td>-0.403602</td>\n",
       "      <td>1.000000</td>\n",
       "      <td>0.618058</td>\n",
       "      <td>0.298459</td>\n",
       "      <td>0.229643</td>\n",
       "      <td>-0.066657</td>\n",
       "      <td>0.157525</td>\n",
       "      <td>...</td>\n",
       "      <td>0.444951</td>\n",
       "      <td>0.213102</td>\n",
       "      <td>0.220775</td>\n",
       "      <td>-0.378630</td>\n",
       "      <td>0.026285</td>\n",
       "      <td>-0.069431</td>\n",
       "      <td>0.001167</td>\n",
       "      <td>-0.033892</td>\n",
       "      <td>-0.006809</td>\n",
       "      <td>0.507584</td>\n",
       "    </tr>\n",
       "  </tbody>\n",
       "</table>\n",
       "<p>5 rows × 35 columns</p>\n",
       "</div>"
      ],
      "text/plain": [
       "             LotFrontage   LotArea  OverallQual  OverallCond  YearBuilt  \\\n",
       "LotFrontage     1.000000  0.096486     0.181773    -0.055003   0.036465   \n",
       "LotArea         0.096486  1.000000     0.090016    -0.002869  -0.005921   \n",
       "OverallQual     0.181773  0.090016     1.000000    -0.136232   0.572082   \n",
       "OverallCond    -0.055003 -0.002869    -0.136232     1.000000  -0.403602   \n",
       "YearBuilt       0.036465 -0.005921     0.572082    -0.403602   1.000000   \n",
       "\n",
       "             YearRemodAdd  MasVnrArea  BsmtFinSF1  BsmtFinSF2  BsmtUnfSF  \\\n",
       "LotFrontage      0.078981    0.105703    0.081660   -0.011105   0.155099   \n",
       "LotArea          0.002764    0.095510    0.210145    0.110011  -0.009707   \n",
       "OverallQual      0.557772    0.398334    0.223690   -0.073166   0.318552   \n",
       "OverallCond      0.048340   -0.132515   -0.050818    0.038770  -0.140730   \n",
       "YearBuilt        0.618058    0.298459    0.229643   -0.066657   0.157525   \n",
       "\n",
       "               ...      GarageArea  WoodDeckSF  OpenPorchSF  EnclosedPorch  \\\n",
       "LotFrontage    ...        0.231974   -0.021568     0.073032       0.026765   \n",
       "LotArea        ...        0.167622    0.166600     0.085056      -0.013427   \n",
       "OverallQual    ...        0.528107    0.227272     0.319045      -0.106609   \n",
       "OverallCond    ...       -0.196678   -0.005638    -0.053090       0.063196   \n",
       "YearBuilt      ...        0.444951    0.213102     0.220775      -0.378630   \n",
       "\n",
       "             3SsnPorch  ScreenPorch  PoolArea   MiscVal    YrSold  SalePrice  \n",
       "LotFrontage   0.023441     0.022293  0.115886 -0.064162 -0.014347   0.213331  \n",
       "LotArea       0.018443     0.038605  0.076868  0.040288 -0.013797   0.252921  \n",
       "OverallQual   0.024314     0.050580  0.064305 -0.029078 -0.019273   0.787228  \n",
       "OverallCond   0.026735     0.057507 -0.002274  0.079088  0.050309  -0.095278  \n",
       "YearBuilt     0.026285    -0.069431  0.001167 -0.033892 -0.006809   0.507584  \n",
       "\n",
       "[5 rows x 35 columns]"
      ]
     },
     "execution_count": 59,
     "metadata": {},
     "output_type": "execute_result"
    }
   ],
   "source": [
    "import seaborn as sns\n",
    "%matplotlib inline\n",
    "from matplotlib import pyplot as plt\n",
    "import pandas as pd\n",
    "\n",
    "\n",
    "iowa.corr().head()"
   ]
  },
  {
   "cell_type": "markdown",
   "metadata": {},
   "source": [
    "Above are the Pearson correlation coefficients for all the continuous variables depicting their correlation with each other.<br/>\n",
    "We can take a better view of this by plotting a heatmap."
   ]
  },
  {
   "cell_type": "code",
   "execution_count": 60,
   "metadata": {},
   "outputs": [
    {
     "data": {
      "image/png": "[encoded data removed]",
      "text/plain": [
       "<Figure size 720x432 with 2 Axes>"
      ]
     },
     "metadata": {},
     "output_type": "display_data"
    }
   ],
   "source": [
    "plt.figure(figsize=(10,6))\n",
    "sns.heatmap(iowa.corr());"
   ]
  },
  {
   "cell_type": "markdown",
   "metadata": {
    "slideshow": {
     "slide_type": "subslide"
    }
   },
   "source": [
    "##  Filter Methods - LDA (Linear Discriminant Analysis)\n",
    "***\n",
    "**LDA**: Linear discriminant analysis is used to find a linear combination of features that characterizes or separates two or more classes (or levels) of a categorical variable.\n",
    "\n"
   ]
  },
  {
   "cell_type": "markdown",
   "metadata": {
    "slideshow": {
     "slide_type": "subslide"
    }
   },
   "source": [
    "##  Filter Methods - ANOVA (Analysis Of Variance)\n",
    "***\n",
    "**ANOVA**: ANOVA stands for Analysis of variance. It is similar to LDA except for the fact that it is operated using one or more categorical independent features and one continuous dependent feature. It provides a statistical test of whether the means of several groups are equal or not.\n",
    "\n"
   ]
  },
  {
   "cell_type": "markdown",
   "metadata": {
    "slideshow": {
     "slide_type": "subslide"
    }
   },
   "source": [
    "##  Filter Methods -  Chi-square\n",
    "***\n",
    "**Chi-Square**: It is a is a statistical test applied to the groups of categorical features to evaluate the likelihood of correlation or association between them using their frequency distribution.\n",
    "\n"
   ]
  },
  {
   "cell_type": "markdown",
   "metadata": {
    "slideshow": {
     "slide_type": "slide"
    }
   },
   "source": [
    "### Filter Method - Vulnerability\n",
    "***\n",
    "One thing that should be kept in mind is that filter methods do not remove multicollinearity. So, one must deal with multicollinearity of features as well before training models for his/her data."
   ]
  },
  {
   "cell_type": "markdown",
   "metadata": {
    "slideshow": {
     "slide_type": "slide"
    }
   },
   "source": [
    "<img src=\"../images/Concept-Alert.png\" alt=\"Concept-ALert\" style=\"width: 100px;float:left; margin-right:15px\"/>\n",
    "<br />\n",
    "\n",
    "## Wrapper Methods\n",
    "***\n",
    "\n",
    "![Wrapper_1.png](../images/Wrapper_1.png)\n",
    "<br/>\n",
    "Image Source : https://www.analyticsvidhya.com/blog/2016/12/introduction-to-feature-selection-methods-with-an-example-or-how-to-select-the-right-variables/"
   ]
  },
  {
   "cell_type": "markdown",
   "metadata": {
    "slideshow": {
     "slide_type": "slide"
    }
   },
   "source": [
    "## Wrapper Methods\n",
    "***\n",
    "- In wrapper methods, we try to use a subset of features and train a model using them.\n",
    "- Based on the inferences that we draw from the previous model, we decide to add or remove features from your subset.\n",
    "- The problem is essentially reduced to a search problem. These methods are usually computationally very expensive.\n",
    "- Some common examples of wrapper methods are \n",
    "    - Forward feature selection \n",
    "    - Backward feature elimination \n",
    "    - Recursive feature elimination "
   ]
  },
  {
   "cell_type": "markdown",
   "metadata": {
    "slideshow": {
     "slide_type": "subslide"
    }
   },
   "source": [
    "## Wrapper Methods\n",
    "***\n",
    "\n",
    "**Forward Feature Selection**: Forward selection is an iterative method in which we start with having no feature in the model. In each iteration, we keep adding the feature which best improves our model till the addition of a new variable does not improve the performance of our model"
   ]
  },
  {
   "cell_type": "markdown",
   "metadata": {
    "slideshow": {
     "slide_type": "subslide"
    }
   },
   "source": [
    "## Wrapper Methods\n",
    "***\n",
    "**Backward Feature Elimination**: In backward elimination, we start with all the features and removes the least significant feature at each iteration which improves the performance of the model. We repeat this until no improvement is observed on removal of features. This technique is also known as **Recursive Feature Elimination.**"
   ]
  },
  {
   "cell_type": "markdown",
   "metadata": {
    "slideshow": {
     "slide_type": "subslide"
    }
   },
   "source": [
    "**Recursive Feature Elimination (RFE)**\n",
    "\n",
    "* The Recursive Feature Elimination (RFE) method works by recursively removing attributes and building a model on those attributes that remain.\n",
    "* It uses an external estimator that assigns weights to features (for example, the coefficients of a linear model) to identify which attributes (and combination of attributes) contribute the most to predicting the target attribute.\n"
   ]
  },
  {
   "cell_type": "markdown",
   "metadata": {
    "slideshow": {
     "slide_type": "subslide"
    }
   },
   "source": [
    "** Recursive Feature Elimination (RFE)**\n",
    "\n",
    "* It is a greedy optimization algorithm which aims to find the best performing feature subset.\n",
    "\n",
    "* It repeatedly creates models and keeps aside the best or the worst performing feature at each iteration. \n",
    "\n",
    "* It constructs the next model with the left features until all the features are exhausted. It then ranks the features based on the order of their elimination."
   ]
  },
  {
   "cell_type": "code",
   "execution_count": 61,
   "metadata": {
    "slideshow": {
     "slide_type": "slide"
    }
   },
   "outputs": [
    {
     "name": "stdout",
     "output_type": "stream",
     "text": [
      "[False False  True  True False False False False False False False False\n",
      " False False False  True  True  True False  True  True  True  True False\n",
      "  True False False False False False False False False False]\n",
      "[ 5 24  1  1  3 10 11 18 21 22 17  7  8 20 15  1  1  1  6  1  1  1  1  4\n",
      "  1 16 13 23 19 14  9 12 25  2]\n"
     ]
    }
   ],
   "source": [
    "# Recursive Feature Elimination\n",
    "from sklearn.feature_selection import RFE\n",
    "from sklearn.linear_model import LinearRegression\n",
    "\n",
    "# create a base classifier used to evaluate a subset of attributes\n",
    "model = LinearRegression()\n",
    "\n",
    "X, y = iowa.iloc[:,:-1], iowa.iloc[:,-1]\n",
    "# create the RFE model and select 3 attributes\n",
    "rfe = RFE(model, 10)\n",
    "rfe = rfe.fit(X, y)\n",
    "\n",
    "# summarize the selection of the attributes\n",
    "print(rfe.support_)\n",
    "print(rfe.ranking_)"
   ]
  },
  {
   "cell_type": "markdown",
   "metadata": {
    "slideshow": {
     "slide_type": "slide"
    }
   },
   "source": [
    "<img src=\"../images/Concept-Alert.png\" alt=\"Concept-ALert\" style=\"width: 100px;float:left; margin-right:15px\"/>\n",
    "<br />\n",
    "\n",
    "## Embedded Methods\n",
    "***\n",
    "\n",
    "![Embedded_1.png](../images/Embedded_1.png)\n",
    "<br/>\n",
    "Image Source : https://www.analyticsvidhya.com/blog/2016/12/introduction-to-feature-selection-methods-with-an-example-or-how-to-select-the-right-variables/"
   ]
  },
  {
   "cell_type": "markdown",
   "metadata": {
    "slideshow": {
     "slide_type": "slide"
    }
   },
   "source": [
    "* Embedded methods combine the qualities’ of filter and wrapper methods. It’s implemented by algorithms that have their own built-in feature selection methods.\n",
    "* Some of the most popular examples of these methods are **LASSO and RIDGE** regression which have inbuilt penalization functions to reduce overfitting.\n",
    "    - Lasso regression performs L1 regularization which adds penalty equivalent to absolute value of the magnitude of coefficients.\n",
    "    - Ridge regression performs L2 regularization which adds penalty equivalent to square of the magnitude of coefficients.\n",
    "* We already have learned how these algorithms work.Other examples of embedded methods are Regularized trees, Memetic algorithm, Random multinomial logit."
   ]
  },
  {
   "cell_type": "markdown",
   "metadata": {
    "slideshow": {
     "slide_type": "subslide"
    }
   },
   "source": [
    "**Model Based Feature Selection**\n",
    "* Here are a few algorithms which help us select feature selection:\n",
    "    - L1 regularized linear regression\n",
    "    - Decision Trees\n",
    "    - Random Forests\n",
    "    - Gradient Boosting Machines\n"
   ]
  },
  {
   "cell_type": "markdown",
   "metadata": {
    "slideshow": {
     "slide_type": "slide"
    }
   },
   "source": [
    "## Difference between Filter and Wrapper methods \n",
    "***\n",
    "The main differences between the filter and wrapper methods for feature selection are:\n",
    "* Filter methods measure the relevance of features by their correlation with dependent variable while wrapper methods measure the usefulness of a subset of feature by actually training a model on it.\n",
    "* Filter methods are much faster compared to wrapper methods as they do not involve training the models. On the other hand, wrapper methods are computationally very expensive as well.\n",
    "* Filter methods use statistical methods for evaluation of a subset of features while wrapper methods use cross validation.\n",
    "* Filter methods might fail to find the best subset of features in many occasions but wrapper methods can always provide the best subset of features.\n",
    "* Using the subset of features from the wrapper methods make the model more prone to overfitting as compared to using subset of features from the filter methods."
   ]
  },
  {
   "cell_type": "markdown",
   "metadata": {
    "slideshow": {
     "slide_type": "subslide"
    }
   },
   "source": [
    "Let's take an example with Iowa dataset ...\n",
    "\n",
    "    For this we will be using RandomForest ( we shall learn about the model later )"
   ]
  },
  {
   "cell_type": "code",
   "execution_count": 62,
   "metadata": {
    "slideshow": {
     "slide_type": "slide"
    }
   },
   "outputs": [],
   "source": [
    "import numpy as np\n",
    "import matplotlib.pyplot as plt\n",
    "\n",
    "from sklearn.ensemble import ExtraTreesClassifier\n",
    "from sklearn.linear_model import LogisticRegression\n",
    "from sklearn.tree import DecisionTreeClassifier"
   ]
  },
  {
   "cell_type": "code",
   "execution_count": 63,
   "metadata": {},
   "outputs": [],
   "source": [
    "from sklearn.feature_selection import SelectFromModel"
   ]
  },
  {
   "cell_type": "code",
   "execution_count": null,
   "metadata": {},
   "outputs": [],
   "source": []
  },
  {
   "cell_type": "code",
   "execution_count": 64,
   "metadata": {},
   "outputs": [
    {
     "name": "stdout",
     "output_type": "stream",
     "text": [
      "Before\n",
      "(1379, 34)\n",
      "\n",
      "Feature Importance\n",
      "[0.0423849  0.06420003 0.03447365 0.0284527  0.04178744 0.03518627\n",
      " 0.04079654 0.062503   0.00824839 0.05586143 0.05431551 0.05336027\n",
      " 0.02544031 0.00291654 0.05254204 0.01563384 0.00570388 0.00396505\n",
      " 0.01249945 0.0205708  0.00315958 0.03528473 0.02304059 0.03998698\n",
      " 0.01019816 0.06401129 0.03662458 0.03984851 0.01546761 0.00583486\n",
      " 0.01326991 0.         0.00437481 0.04805634]\n",
      "\n",
      "After\n",
      "(1379, 17)\n"
     ]
    }
   ],
   "source": [
    "print('Before');\n",
    "print(X.shape)\n",
    "\n",
    "clf = DecisionTreeClassifier()\n",
    "clf.fit(X, y)\n",
    "\n",
    "print('\\nFeature Importance');\n",
    "print(clf.feature_importances_)\n",
    "\n",
    "model = SelectFromModel(clf, prefit=True)\n",
    "X_new = model.transform(X)\n",
    "\n",
    "print('\\nAfter'); \n",
    "print(X_new.shape)"
   ]
  },
  {
   "cell_type": "code",
   "execution_count": null,
   "metadata": {
    "slideshow": {
     "slide_type": "slide"
    }
   },
   "outputs": [],
   "source": [
    "# Build a forest and compute the feature importances\n",
    "forest = ExtraTreesClassifier(n_estimators=50,\n",
    "                              random_state=0)\n",
    "\n",
    "forest.fit(X, y)"
   ]
  },
  {
   "cell_type": "code",
   "execution_count": null,
   "metadata": {
    "slideshow": {
     "slide_type": "slide"
    }
   },
   "outputs": [],
   "source": [
    "importances = forest.feature_importances_\n",
    "importances"
   ]
  },
  {
   "cell_type": "code",
   "execution_count": null,
   "metadata": {
    "slideshow": {
     "slide_type": "slide"
    }
   },
   "outputs": [],
   "source": [
    "std = np.std([tree.feature_importances_ for tree in forest.estimators_], axis=0)\n",
    "std"
   ]
  },
  {
   "cell_type": "code",
   "execution_count": null,
   "metadata": {
    "slideshow": {
     "slide_type": "subslide"
    }
   },
   "outputs": [],
   "source": [
    "indices = np.argsort(importances)[::-1]\n",
    "indices"
   ]
  },
  {
   "cell_type": "code",
   "execution_count": null,
   "metadata": {
    "scrolled": true,
    "slideshow": {
     "slide_type": "slide"
    }
   },
   "outputs": [],
   "source": [
    "# Print the feature ranking\n",
    "print(\"Feature ranking:\")\n",
    "\n",
    "for f in range(X.shape[1]):\n",
    "    print(\"%d. feature %d (%f)\" % (f + 1, indices[f], importances[indices[f]]))"
   ]
  },
  {
   "cell_type": "code",
   "execution_count": null,
   "metadata": {
    "slideshow": {
     "slide_type": "slide"
    }
   },
   "outputs": [],
   "source": [
    "# Plot the feature importances of the forest\n",
    "plt.figure()\n",
    "plt.title(\"Feature importances\")\n",
    "plt.bar(range(X.shape[1]), importances[indices],\n",
    "       color=\"r\", yerr=std[indices], align=\"center\")\n",
    "plt.xticks(range(X.shape[1]), indices)\n",
    "plt.xlim([-1, X.shape[1]])\n",
    "plt.show()"
   ]
  },
  {
   "cell_type": "markdown",
   "metadata": {
    "slideshow": {
     "slide_type": "slide"
    }
   },
   "source": [
    "<img src=\"../images/Recap.png\" alt=\"Recap\" style=\"width: 100px;float:left; margin-right:15px\"/>\n",
    "<br />\n",
    "\n",
    "# In-session Recap Time\n",
    "***\n",
    "\n",
    "* Feature Selection\n",
    "* Univariate Feature Selection\n",
    "* Multivariate Feature Selection\n",
    "* Filter Methods\n",
    "* Wrapper Methods\n",
    "* Embedded Methods"
   ]
  },
  {
   "cell_type": "code",
   "execution_count": null,
   "metadata": {},
   "outputs": [],
   "source": [
    "import warnings\n",
    "warnings.filterwarnings('ignore')\n",
    "import pandas as pd\n",
    "df = pd.read_csv('../data/diabetes.csv')\n",
    "df.head()"
   ]
  },
  {
   "cell_type": "code",
   "execution_count": null,
   "metadata": {},
   "outputs": [],
   "source": [
    "X = df.iloc[:,:-1]\n",
    "y = df.iloc[:,-1]"
   ]
  },
  {
   "cell_type": "markdown",
   "metadata": {},
   "source": [
    "<img src='../images/icon/ppt-icons.png' alt='Mini-Challenge' style=\"width: 100px;float:left; margin-right:15px\"/><br/>\n",
    "\n",
    "## Mini-Challenge - 1\n",
    "***\n",
    "In the diabetes dataset above fit a Logistic Regression model(we'll learn in the next section about it, but for now just import it and fit it without any parameters defined) and using that as an estimator, fit an RFE model with 3 features."
   ]
  },
  {
   "cell_type": "code",
   "execution_count": null,
   "metadata": {},
   "outputs": [],
   "source": [
    "from sklearn.feature_selection import RFE\n",
    "from sklearn.linear_model import LogisticRegression\n",
    "\n"
   ]
  },
  {
   "cell_type": "markdown",
   "metadata": {},
   "source": [
    "<img src='../images/icon/ppt-icons.png' alt='Mini-Challenge' style=\"width: 100px;float:left; margin-right:15px\"/><br/>\n",
    "\n",
    "## Mini-Challenge - 2\n",
    "***\n",
    "Now determine the selected features and also the ranking of the features"
   ]
  },
  {
   "cell_type": "code",
   "execution_count": null,
   "metadata": {},
   "outputs": [],
   "source": []
  },
  {
   "cell_type": "markdown",
   "metadata": {},
   "source": [
    "<img src='../images/icon/ppt-icons.png' alt='Mini-Challenge' style=\"width: 100px;float:left; margin-right:15px\"/><br/>\n",
    "\n",
    "## Mini-Challenge - 3\n",
    "***\n",
    "The above assignment does not enlist the features to be selected. Select all the column names and the selected features above and arrange them in their respective order appropriately. "
   ]
  },
  {
   "cell_type": "code",
   "execution_count": null,
   "metadata": {},
   "outputs": [],
   "source": [
    "\n"
   ]
  },
  {
   "cell_type": "markdown",
   "metadata": {},
   "source": [
    "<img src='../images/icon/ppt-icons.png' alt='Mini-Challenge' style=\"width: 100px;float:left; margin-right:15px\"/><br/>\n",
    "\n",
    "## Mini-Challenge - 4\n",
    "***\n",
    "Find the pearson correlation coefficient for all the features with the output variable in the diabetes dataset"
   ]
  },
  {
   "cell_type": "code",
   "execution_count": null,
   "metadata": {},
   "outputs": [],
   "source": []
  },
  {
   "cell_type": "markdown",
   "metadata": {},
   "source": [
    "<img src='../images/icon/ppt-icons.png' alt='Mini-Challenge' style=\"width: 100px;float:left; margin-right:15px\"/><br/>\n",
    "\n",
    "## Mini-Challenge - 5\n",
    "***\n",
    "Plot a heatmap depicting the correlation between variables in the diabetes dataset"
   ]
  },
  {
   "cell_type": "code",
   "execution_count": null,
   "metadata": {},
   "outputs": [],
   "source": []
  },
  {
   "cell_type": "markdown",
   "metadata": {
    "slideshow": {
     "slide_type": "slide"
    }
   },
   "source": [
    "# Thank You\n",
    "***\n",
    "### Next Session: Logistics Regression\n",
    "For more queries - Reach out to academics@greyatom.com "
   ]
  },
  {
   "cell_type": "code",
   "execution_count": null,
   "metadata": {},
   "outputs": [],
   "source": []
  },
  {
   "cell_type": "code",
   "execution_count": null,
   "metadata": {},
   "outputs": [],
   "source": []
  },
  {
   "cell_type": "code",
   "execution_count": null,
   "metadata": {},
   "outputs": [],
   "source": []
  }
 ],
 "metadata": {
  "celltoolbar": "Slideshow",
  "kernelspec": {
   "display_name": "Python 3",
   "language": "python",
   "name": "python3"
  },
  "language_info": {
   "codemirror_mode": {
    "name": "ipython",
    "version": 3
   },
   "file_extension": ".py",
   "mimetype": "text/x-python",
   "name": "python",
   "nbconvert_exporter": "python",
   "pygments_lexer": "ipython3",
   "version": "3.7.6"
  },
  "widgets": {
   "state": {},
   "version": "1.1.2"
  }
 },
 "nbformat": 4,
 "nbformat_minor": 2
}
