{
 "cells": [
  {
   "cell_type": "markdown",
   "metadata": {},
   "source": [
    "![26-Weeks-Logo](../images/26-weeks-of-data-science-banner.jpg)"
   ]
  },
  {
   "cell_type": "markdown",
   "metadata": {},
   "source": [
    "<center> <h1> Time Series - Part II </h1> </center>"
   ]
  },
  {
   "cell_type": "markdown",
   "metadata": {},
   "source": [
    "<center> <h1> Model Based Approaches </h1> </center>"
   ]
  },
  {
   "cell_type": "markdown",
   "metadata": {},
   "source": [
    "## What are we going to learn today ?\n",
    "***\n",
    "- Model Driven Methods\n",
    "- Models we can use in Time Series\n",
    "- Assumptions\n",
    "- Feature Engineering\n",
    "- Trend\n",
    "- Seasonal Dummy Variables\n",
    "\t- Weekly\n",
    "\t- Monthly\n",
    "\t- Quarterly & Yearly\n",
    "\t- Hourly\n",
    "\t- Caution\n",
    "- Fourier Series\n",
    "- Holiday Effects\n",
    "- Lag Variables\n",
    "- Model Building in Python\n",
    "- Residual plots\n",
    "- Insights"
   ]
  },
  {
   "cell_type": "markdown",
   "metadata": {},
   "source": [
    "<h4> Model-Driven Methods</h4>\n",
    "- Predictor variables can also be used in time series forecasting. For example, suppose we wish to forecast the hourly electricity demand (ED) of a hot region during the summer period. A model with predictor variables might be of the form:\n",
    "<br/>\n",
    "<p style=\"text-align: center;\"><b>$ED = f(current temperature, strength of economy, population, time of day, day of week, error)$ </b></p><br/>\n",
    "\n",
    "- We call this an “explanatory model” because it helps explain what causes the variation in electricity demand.\n",
    "<br/>\n",
    "\n",
    "\n"
   ]
  },
  {
   "cell_type": "markdown",
   "metadata": {},
   "source": [
    "## Models we can use in Time-Series \n",
    "All the machine learning models can be applied to time-series provided we implement proper feature engineering. Some of the machine learning models used \n",
    "- Linear Regression\n",
    "- Decision Trees \n",
    "- Random Forests \n",
    "- GBM and Xgboost \n",
    "- Neural Networks \n",
    "\n",
    "We will not be performing any explicit moelling in this notebook\n",
    ", but will see what kind of Feature Engineering can be done. "
   ]
  },
  {
   "cell_type": "markdown",
   "metadata": {},
   "source": [
    "## Assumptions \n",
    "1) we assume that the model is a reasonable approximation to reality.  \n",
    "\n",
    "2) we make the following assumptions about the errors (ε_{1},…,ε_{T))\n",
    " - they have mean zero; otherwise the forecasts will be systematically biased.\n",
    " - they are not autocorrelated; otherwise the forecasts will be inefficient as there is more information to be exploited in the data.\n",
    " - they are unrelated to the predictor variables; otherwise there would be more information that should be included in the systematic part of the model."
   ]
  },
  {
   "cell_type": "markdown",
   "metadata": {},
   "source": [
    "## Feature Engineering \n",
    "\n",
    "In the case of the Australian  antibiotics Drug Sales dataset we have used, we don't have any external variables like strength of the economy, health index of the country etc. So some of the basic things to consider while creating features for time-series modelling are \n",
    "\n",
    "- If the explanatory variable is available for the future datapoints. We can sometimes use their forecasts and use it in our models, but this will increase our error rate. \n",
    "\n",
    "Lets look at some of the features we can create using the available date feature.\n",
    " "
   ]
  },
  {
   "cell_type": "markdown",
   "metadata": {},
   "source": [
    "## Trend\n",
    "\n",
    "It is very common for time series data to be trending. A linear trend can be modelled by simply using $x_{1,t}=t$ as a predictor,\n",
    "\n",
    "\\begin{align*}\n",
    "y_{t} = \\beta_{0}+ \\beta_{1}*t+\\epsilon_{t}\n",
    "\\end{align*}\n",
    "\n",
    "where  t=1,…,T\n",
    "\n",
    "Trend can be easily used in Linear models. But cannot be used in  non-linear models like Decision Trees because\n",
    "\n",
    "\n",
    "- The linear model approximates the data with a line, as we knew it would. This line provides quite a good forecast for the test data (the years after 2000), while glossing over some of the finer variations in both the training and the test data. \n",
    "- In The tree model, once we leave the date range for which the model has data, the model simply keeps predicting the last known point. The tree has no ability to generate “new” responses, outside of what was seen in the training data. This shortcoming applies to all models based on trees.\n"
   ]
  },
  {
   "cell_type": "markdown",
   "metadata": {},
   "source": [
    "## Seasonal Dummy Variables\n",
    "In a time-series data this can be any of the following: \n",
    "\n",
    "<h3> Weekly </h3> \n",
    "- If you are dealing with daily data and see variations at daily level, using dummy variables makes sense. \n",
    "- This can be validated using box-plots\n",
    "- Sometimes you see variations across weekends and weekdays. Here create dummy variables only according to that.\n",
    "\n",
    "Example:  \n",
    "--------\n",
    "Electricity demand generally spikes during weekends compared to weekdays. \n",
    "\n",
    "<h3> Monthly </h3>\n",
    "- Aggregate the data monthly and see if there is any variation month wise. Create a dummy feature if it makes sense to create one.\n",
    "- This can be validates using box-plots and line-plots as we have observed previosuly in session-2.\n",
    "\n",
    "Example:  \n",
    "--------\n",
    "Sales of Fasion retail stores peaks during December because of christmas and is normal during the rest of the year.\n",
    "\n",
    "<h3> Quarterly & Yearly </h3>\n",
    "- If there is variation in the data at Quarterly or yearly level, use Quarterly features. \n",
    "- This can again be validated using box-plots and line-plots. \n",
    "\n",
    "Example:\n",
    "--------\n",
    "1) Ice-cream sales peaks during summer and is normal through-out the entire year.  \n",
    "2) Electricity demand can peaks during summer because of excessive use of air-conditioners.\n",
    "\n",
    "<h3> Hourly </h3>\n",
    "- Useful for Companies which deal with hourly data. Uber for example, should consider hour as a feature as demand peaks during the early day hours (8am - 11am) and evening (5pm - 9pm). \n",
    "- Sometimes it is good to club hours and make features like peak hours vs non-peak hours. This will reduce the dimensionality and remove redundant variables.\n",
    "\n",
    "Caution:\n",
    "-------- \n",
    "While using Regression models, many beginners will try to add a seventh dummy variable for the seventh category. This is known as the “dummy variable trap” because it will cause the regression to fail. There will be one too many parameters to estimate when an intercept is also included. The general rule is to use one fewer dummy variables than categories. So for quarterly data, use three dummy variables; for monthly data, use 11 dummy variables; and for daily data, use six dummy variables, and so on.\n",
    "\n",
    "This is not a problem with Decision Tree, as it only takes a variable if it explains the variation in the data. But do check for Over-fitting."
   ]
  },
  {
   "cell_type": "markdown",
   "metadata": {},
   "source": [
    "## Fourier Series \n",
    "An alternative to using seasonal dummy variables, especially for long seasonal periods, is to use Fourier terms. Jean-Baptiste Fourier was a French mathematician, born in the 1700s, who showed that a series of sine and cosine terms of the right frequencies can approximate any periodic function. We can use them for seasonal patterns.\n",
    "\n",
    "If  m is the seasonal period, then the first few Fourier terms are given by\n",
    "\n",
    "\\begin{align*}\n",
    "x_{1,t}=\\sin⁡(1*\\pi*t/m), x_{2,t}=\\cos⁡(2*\\pi*t/m), x_{3,t}=\\sin⁡(3*\\pi*t/m), x_{4,t}=cos⁡(4*\\pi*t/m), x_{5,t}=\\sin⁡(5*\\pi*t/m), x_{6,t}=cos⁡(6*\\pi*t/m), ...\n",
    "\\end{align*}\n",
    "\n",
    "and so on. \n",
    "\n",
    "If we have monthly seasonality, and we use the first 11 of these predictor variables, then we will get exactly the same forecasts as using 11 dummy variables."
   ]
  },
  {
   "cell_type": "markdown",
   "metadata": {},
   "source": [
    "## Holiday Effects:\n",
    "- Holidays have a large effect on your time-series forecasts. Most of the retail sales spike during the holidays and it is useful to keep them in your predictor variables.\n",
    "\n",
    "There are two different kind of holidays:\n",
    "- Occuring on the same day every year. For example, Christmas\n",
    "- Some festivals are not held on the same date each year, as they follow a different calender or system.\n",
    "  - Hindus follow their own calender (lunar calender). The dates are decided according to the moon's appearance. Diwali is celebrated on Karthik amawasya (Karthik being one of the months and amawasya being new moon) every year.\n",
    "  - Easter is celebrated on first Sunday after the first full moon following the first day of spring and the effect can last for several days. In this case, a dummy variable can be used with value one where the holiday falls in the particular time period and zero otherwise. with monthly data, when Easter falls in March then the dummy variable takes value 1 in March, when it falls in April, the dummy variable takes value 1 in April, and when it starts in March and finishes in April, the dummy variable is split proportionally between months.\n",
    "  \n",
    "So carefully check for holiday effects and model accordingly."
   ]
  },
  {
   "cell_type": "markdown",
   "metadata": {},
   "source": [
    "## Lag Variables:\n",
    "If there is Auto-Correlation in data, We can use lag as one of the variables in the time-series data. but be careful as while forecasting you need to use the last predicted values as the lag variable to the model and this propogates the error when you look more into the future."
   ]
  },
  {
   "cell_type": "code",
   "execution_count": 1,
   "metadata": {},
   "outputs": [
    {
     "name": "stdout",
     "output_type": "stream",
     "text": [
      "(204, 1)\n"
     ]
    },
    {
     "data": {
      "text/html": [
       "<div>\n",
       "<style scoped>\n",
       "    .dataframe tbody tr th:only-of-type {\n",
       "        vertical-align: middle;\n",
       "    }\n",
       "\n",
       "    .dataframe tbody tr th {\n",
       "        vertical-align: top;\n",
       "    }\n",
       "\n",
       "    .dataframe thead th {\n",
       "        text-align: right;\n",
       "    }\n",
       "</style>\n",
       "<table border=\"1\" class=\"dataframe\">\n",
       "  <thead>\n",
       "    <tr style=\"text-align: right;\">\n",
       "      <th></th>\n",
       "      <th>y</th>\n",
       "    </tr>\n",
       "    <tr>\n",
       "      <th>ds</th>\n",
       "      <th></th>\n",
       "    </tr>\n",
       "  </thead>\n",
       "  <tbody>\n",
       "    <tr>\n",
       "      <th>1991-07-01</th>\n",
       "      <td>3.526591</td>\n",
       "    </tr>\n",
       "    <tr>\n",
       "      <th>1991-08-01</th>\n",
       "      <td>3.180891</td>\n",
       "    </tr>\n",
       "    <tr>\n",
       "      <th>1991-09-01</th>\n",
       "      <td>3.252221</td>\n",
       "    </tr>\n",
       "    <tr>\n",
       "      <th>1991-10-01</th>\n",
       "      <td>3.611003</td>\n",
       "    </tr>\n",
       "    <tr>\n",
       "      <th>1991-11-01</th>\n",
       "      <td>3.565869</td>\n",
       "    </tr>\n",
       "  </tbody>\n",
       "</table>\n",
       "</div>"
      ],
      "text/plain": [
       "                   y\n",
       "ds                  \n",
       "1991-07-01  3.526591\n",
       "1991-08-01  3.180891\n",
       "1991-09-01  3.252221\n",
       "1991-10-01  3.611003\n",
       "1991-11-01  3.565869"
      ]
     },
     "execution_count": 1,
     "metadata": {},
     "output_type": "execute_result"
    }
   ],
   "source": [
    "### Lets build the model\n",
    "## Load the data\n",
    "import pandas as pd\n",
    "import numpy as np\n",
    "import datetime\n",
    "import math\n",
    "from sklearn.metrics import mean_squared_error\n",
    "import matplotlib.pyplot as plt \n",
    "%matplotlib inline \n",
    "\n",
    "import warnings\n",
    "warnings.filterwarnings('ignore')\n",
    "\n",
    "tss = pd.read_csv(\"../data/AusAntidiabeticDrug.csv\")\n",
    "tss[\"ds\"] = pd.to_datetime(tss[\"ds\"])\n",
    "tss.index = tss[\"ds\"]\n",
    "tss = tss[[\"y\"]]\n",
    "print(tss.shape)\n",
    "tss.head()"
   ]
  },
  {
   "cell_type": "code",
   "execution_count": 2,
   "metadata": {},
   "outputs": [
    {
     "data": {
      "text/html": [
       "<div>\n",
       "<style scoped>\n",
       "    .dataframe tbody tr th:only-of-type {\n",
       "        vertical-align: middle;\n",
       "    }\n",
       "\n",
       "    .dataframe tbody tr th {\n",
       "        vertical-align: top;\n",
       "    }\n",
       "\n",
       "    .dataframe thead th {\n",
       "        text-align: right;\n",
       "    }\n",
       "</style>\n",
       "<table border=\"1\" class=\"dataframe\">\n",
       "  <thead>\n",
       "    <tr style=\"text-align: right;\">\n",
       "      <th></th>\n",
       "      <th>y</th>\n",
       "      <th>month</th>\n",
       "      <th>Jan</th>\n",
       "      <th>Dec</th>\n",
       "      <th>Feb</th>\n",
       "      <th>June</th>\n",
       "      <th>lag1</th>\n",
       "      <th>Trend</th>\n",
       "    </tr>\n",
       "    <tr>\n",
       "      <th>ds</th>\n",
       "      <th></th>\n",
       "      <th></th>\n",
       "      <th></th>\n",
       "      <th></th>\n",
       "      <th></th>\n",
       "      <th></th>\n",
       "      <th></th>\n",
       "      <th></th>\n",
       "    </tr>\n",
       "  </thead>\n",
       "  <tbody>\n",
       "    <tr>\n",
       "      <th>1991-07-01</th>\n",
       "      <td>3.526591</td>\n",
       "      <td>7</td>\n",
       "      <td>0</td>\n",
       "      <td>0</td>\n",
       "      <td>0</td>\n",
       "      <td>0</td>\n",
       "      <td>0.000000</td>\n",
       "      <td>0</td>\n",
       "    </tr>\n",
       "    <tr>\n",
       "      <th>1991-08-01</th>\n",
       "      <td>3.180891</td>\n",
       "      <td>8</td>\n",
       "      <td>0</td>\n",
       "      <td>0</td>\n",
       "      <td>0</td>\n",
       "      <td>0</td>\n",
       "      <td>3.526591</td>\n",
       "      <td>1</td>\n",
       "    </tr>\n",
       "    <tr>\n",
       "      <th>1991-09-01</th>\n",
       "      <td>3.252221</td>\n",
       "      <td>9</td>\n",
       "      <td>0</td>\n",
       "      <td>0</td>\n",
       "      <td>0</td>\n",
       "      <td>0</td>\n",
       "      <td>3.180891</td>\n",
       "      <td>2</td>\n",
       "    </tr>\n",
       "    <tr>\n",
       "      <th>1991-10-01</th>\n",
       "      <td>3.611003</td>\n",
       "      <td>10</td>\n",
       "      <td>0</td>\n",
       "      <td>0</td>\n",
       "      <td>0</td>\n",
       "      <td>0</td>\n",
       "      <td>3.252221</td>\n",
       "      <td>3</td>\n",
       "    </tr>\n",
       "    <tr>\n",
       "      <th>1991-11-01</th>\n",
       "      <td>3.565869</td>\n",
       "      <td>11</td>\n",
       "      <td>0</td>\n",
       "      <td>0</td>\n",
       "      <td>0</td>\n",
       "      <td>0</td>\n",
       "      <td>3.611003</td>\n",
       "      <td>4</td>\n",
       "    </tr>\n",
       "  </tbody>\n",
       "</table>\n",
       "</div>"
      ],
      "text/plain": [
       "                   y  month  Jan  Dec  Feb  June      lag1  Trend\n",
       "ds                                                               \n",
       "1991-07-01  3.526591      7    0    0    0     0  0.000000      0\n",
       "1991-08-01  3.180891      8    0    0    0     0  3.526591      1\n",
       "1991-09-01  3.252221      9    0    0    0     0  3.180891      2\n",
       "1991-10-01  3.611003     10    0    0    0     0  3.252221      3\n",
       "1991-11-01  3.565869     11    0    0    0     0  3.611003      4"
      ]
     },
     "execution_count": 2,
     "metadata": {},
     "output_type": "execute_result"
    }
   ],
   "source": [
    "## Using month as a feature\n",
    "tss['month'] = [tss.index[i].month for i in range(len(tss))]\n",
    "## From the insights in session-1 \n",
    "#There is a large jump in sales in January each year.\n",
    "tss[\"Jan\"] = tss[\"month\"].apply(lambda x: 1 if x == 1 else 0)\n",
    "\n",
    "# From box-plot shown session-1\n",
    "tss[\"Dec\"] = tss[\"month\"].apply(lambda x: 1 if x == 12 else 0)\n",
    "tss[\"Feb\"] = tss[\"month\"].apply(lambda x: 1 if x == 2 else 0)\n",
    "tss[\"June\"] = tss[\"month\"].apply(lambda x: 1 if x == 6 else 0)\n",
    "\n",
    "## Using lag-1 variable - From Auto-Correlation Plot.\n",
    "tss[\"lag1\"] = tss.y.shift(1) \n",
    "\n",
    "## Using the trend\n",
    "tss[\"Trend\"] = [i for i in range(len(tss))]\n",
    "tss = tss.fillna(0)\n",
    "tss.head()"
   ]
  },
  {
   "cell_type": "code",
   "execution_count": 3,
   "metadata": {},
   "outputs": [
    {
     "name": "stdout",
     "output_type": "stream",
     "text": [
      "(162, 8) (42, 8)\n"
     ]
    }
   ],
   "source": [
    "## Split the data into train and test\n",
    "x_train = tss[tss.index <datetime.datetime(2005, 1, 1, 0, 0, 0)]\n",
    "x_test = tss[tss.index >=datetime.datetime(2005, 1, 1, 0, 0, 0)]\n",
    "print(x_train.shape, x_test.shape)"
   ]
  },
  {
   "cell_type": "code",
   "execution_count": 4,
   "metadata": {},
   "outputs": [
    {
     "data": {
      "text/html": [
       "<div>\n",
       "<style scoped>\n",
       "    .dataframe tbody tr th:only-of-type {\n",
       "        vertical-align: middle;\n",
       "    }\n",
       "\n",
       "    .dataframe tbody tr th {\n",
       "        vertical-align: top;\n",
       "    }\n",
       "\n",
       "    .dataframe thead th {\n",
       "        text-align: right;\n",
       "    }\n",
       "</style>\n",
       "<table border=\"1\" class=\"dataframe\">\n",
       "  <thead>\n",
       "    <tr style=\"text-align: right;\">\n",
       "      <th></th>\n",
       "      <th>y</th>\n",
       "      <th>month</th>\n",
       "      <th>Jan</th>\n",
       "      <th>Dec</th>\n",
       "      <th>Feb</th>\n",
       "      <th>June</th>\n",
       "      <th>lag1</th>\n",
       "      <th>Trend</th>\n",
       "    </tr>\n",
       "    <tr>\n",
       "      <th>ds</th>\n",
       "      <th></th>\n",
       "      <th></th>\n",
       "      <th></th>\n",
       "      <th></th>\n",
       "      <th></th>\n",
       "      <th></th>\n",
       "      <th></th>\n",
       "      <th></th>\n",
       "    </tr>\n",
       "  </thead>\n",
       "  <tbody>\n",
       "    <tr>\n",
       "      <th>1991-07-01</th>\n",
       "      <td>1.509969</td>\n",
       "      <td>7</td>\n",
       "      <td>0</td>\n",
       "      <td>0</td>\n",
       "      <td>0</td>\n",
       "      <td>0</td>\n",
       "      <td>0.000000</td>\n",
       "      <td>0</td>\n",
       "    </tr>\n",
       "    <tr>\n",
       "      <th>1991-08-01</th>\n",
       "      <td>1.430524</td>\n",
       "      <td>8</td>\n",
       "      <td>0</td>\n",
       "      <td>0</td>\n",
       "      <td>0</td>\n",
       "      <td>0</td>\n",
       "      <td>1.509969</td>\n",
       "      <td>1</td>\n",
       "    </tr>\n",
       "    <tr>\n",
       "      <th>1991-09-01</th>\n",
       "      <td>1.447441</td>\n",
       "      <td>9</td>\n",
       "      <td>0</td>\n",
       "      <td>0</td>\n",
       "      <td>0</td>\n",
       "      <td>0</td>\n",
       "      <td>1.430524</td>\n",
       "      <td>2</td>\n",
       "    </tr>\n",
       "    <tr>\n",
       "      <th>1991-10-01</th>\n",
       "      <td>1.528445</td>\n",
       "      <td>10</td>\n",
       "      <td>0</td>\n",
       "      <td>0</td>\n",
       "      <td>0</td>\n",
       "      <td>0</td>\n",
       "      <td>1.447441</td>\n",
       "      <td>3</td>\n",
       "    </tr>\n",
       "    <tr>\n",
       "      <th>1991-11-01</th>\n",
       "      <td>1.518609</td>\n",
       "      <td>11</td>\n",
       "      <td>0</td>\n",
       "      <td>0</td>\n",
       "      <td>0</td>\n",
       "      <td>0</td>\n",
       "      <td>1.528445</td>\n",
       "      <td>4</td>\n",
       "    </tr>\n",
       "  </tbody>\n",
       "</table>\n",
       "</div>"
      ],
      "text/plain": [
       "                   y  month  Jan  Dec  Feb  June      lag1  Trend\n",
       "ds                                                               \n",
       "1991-07-01  1.509969      7    0    0    0     0  0.000000      0\n",
       "1991-08-01  1.430524      8    0    0    0     0  1.509969      1\n",
       "1991-09-01  1.447441      9    0    0    0     0  1.430524      2\n",
       "1991-10-01  1.528445     10    0    0    0     0  1.447441      3\n",
       "1991-11-01  1.518609     11    0    0    0     0  1.528445      4"
      ]
     },
     "execution_count": 4,
     "metadata": {},
     "output_type": "execute_result"
    }
   ],
   "source": [
    "### Since there is a mulitiplicative effect. Use log of y instead of direct y\n",
    "x_train[\"y\"] = x_train[\"y\"].apply(lambda x: math.log(x+1))\n",
    "x_train[\"lag1\"] = x_train[\"lag1\"].apply(lambda x: math.log(x+1))\n",
    "\n",
    "x_test[\"lag1\"] = x_test[\"lag1\"].apply(lambda x: math.log(x+1))\n",
    "x_train.head()"
   ]
  },
  {
   "cell_type": "code",
   "execution_count": 5,
   "metadata": {},
   "outputs": [
    {
     "name": "stdout",
     "output_type": "stream",
     "text": [
      "RMSE: 1.966214643516144\n"
     ]
    }
   ],
   "source": [
    "from sklearn.linear_model import LinearRegression\n",
    "model = LinearRegression().fit(x_train[[\"Jan\", \"Feb\", \"June\", \"Dec\", \"lag1\", \"Trend\"]], x_train.y)\n",
    "pred = model.predict(x_test[[\"Jan\", \"Feb\", \"June\", \"Dec\", \"lag1\",  \"Trend\"]])\n",
    "measure = math.pow(mean_squared_error(x_test.y, [math.exp(i)-1 for i in pred]), 0.5)\n",
    "print(\"RMSE:\", measure)"
   ]
  },
  {
   "cell_type": "code",
   "execution_count": 6,
   "metadata": {},
   "outputs": [
    {
     "name": "stdout",
     "output_type": "stream",
     "text": [
      "model.coef_: [ 0.238246   -0.22933591 -0.04837378  0.20326329  0.14559292  0.00705468]\n",
      "model.intercept_: 1.2641645007080748\n"
     ]
    }
   ],
   "source": [
    "print(\"model.coef_: {}\".format(model.coef_)) \n",
    "print(\"model.intercept_: {}\".format(model.intercept_))"
   ]
  },
  {
   "cell_type": "code",
   "execution_count": 7,
   "metadata": {},
   "outputs": [
    {
     "data": {
      "image/png": "[encoded data removed]",
      "text/plain": [
       "<Figure size 1152x504 with 1 Axes>"
      ]
     },
     "metadata": {},
     "output_type": "display_data"
    }
   ],
   "source": [
    "pred = pd.DataFrame(pred)\n",
    "pred.columns = [\"yhat\"]\n",
    "pred.index = x_test.index\n",
    "pred.head()\n",
    "\n",
    "plt.figure(figsize=(16, 7))\n",
    "plt.plot(x_train.index, [math.exp(i)-1 for i in x_train.y], color=\"lightblue\")\n",
    "plt.plot(x_test.index, x_test.y, color=\"green\")\n",
    "plt.plot(pred.index, [math.exp(i)-1 for i in pred.values], color=\"red\")\n",
    "plt.show()"
   ]
  },
  {
   "cell_type": "markdown",
   "metadata": {},
   "source": [
    "## Residual Plots\n",
    "- Allows us to see if there is any variation left in the data which is not captured by our model."
   ]
  },
  {
   "cell_type": "code",
   "execution_count": 8,
   "metadata": {},
   "outputs": [
    {
     "data": {
      "text/plain": [
       "Text(0.5,1,'Actual vs Predicted')"
      ]
     },
     "execution_count": 8,
     "metadata": {},
     "output_type": "execute_result"
    },
    {
     "data": {
      "image/png": "[encoded data removed]",
      "text/plain": [
       "<Figure size 1152x504 with 1 Axes>"
      ]
     },
     "metadata": {},
     "output_type": "display_data"
    }
   ],
   "source": [
    "plt.figure(figsize=(16, 7))\n",
    "plt.scatter(x_test[\"y\"].values, [math.exp(i)-1 for i in pred[\"yhat\"].values])\n",
    "plt.xlabel(\"Actual values\")\n",
    "plt.ylabel(\"Predicted values\")\n",
    "plt.title(\"Actual vs Predicted\")"
   ]
  },
  {
   "cell_type": "code",
   "execution_count": 9,
   "metadata": {},
   "outputs": [
    {
     "data": {
      "image/png": "[encoded data removed]",
      "text/plain": [
       "<Figure size 1152x504 with 1 Axes>"
      ]
     },
     "metadata": {},
     "output_type": "display_data"
    }
   ],
   "source": [
    "plt.figure(figsize=(16, 7))\n",
    "plt.hist([j -  math.exp(i)-1 for i, j in zip(pred[\"yhat\"].values, x_test.y)])\n",
    "plt.title(\"Residual plots\");"
   ]
  },
  {
   "cell_type": "code",
   "execution_count": 10,
   "metadata": {},
   "outputs": [
    {
     "data": {
      "image/png": "[encoded data removed]",
      "text/plain": [
       "<Figure size 1152x504 with 1 Axes>"
      ]
     },
     "metadata": {},
     "output_type": "display_data"
    }
   ],
   "source": [
    "error = [j -  math.exp(i)-1 for i, j in zip(pred[\"yhat\"].values, x_test.y)]\n",
    "datetime = x_test.index\n",
    "\n",
    "plt.figure(figsize=(16, 7))\n",
    "plt.scatter(datetime, error)\n",
    "plt.xlabel(\"datetime\")\n",
    "plt.ylabel(\"Error\")\n",
    "plt.title(\"Residual Plots\");"
   ]
  },
  {
   "cell_type": "markdown",
   "metadata": {},
   "source": [
    "## Insights:\n",
    "- The errors are random, have a constant mean and normally distributed.\n",
    "- Using Simple Linear regression and basic feature engineering we reached an RMSE value of 1.96, which is still high compared to ARIMA models, but unlike arima models, u can easily interpret your results here.\n",
    "- Careful Feature Engineering and use of complex models will reduce your RMSE value further, but there is a cost and you should choose between complexity vs interpretability. "
   ]
  },
  {
   "cell_type": "markdown",
   "metadata": {},
   "source": [
    "## tsFresh. \n",
    "- https://arxiv.org/abs/1610.07717\n",
    "- Automatic extraction of 100's of features, Those features describe basic characteristics of the time series such as the number of peaks, the average or maximal value or more complex features such as the time reversal symmetry statistic.\n",
    "- this package has a built-in filtering procedure. This filtering procedure evaluates the explaining power and importance of each characteristic for the regression or classification tasks at hand.\n",
    "- Github Link: https://github.com/blue-yonder/tsfresh"
   ]
  },
  {
   "cell_type": "markdown",
   "metadata": {},
   "source": [
    "## Prophet\n",
    "- Prophet is open source software released by Facebook's Core Data Science team. It has both python and R API.\n",
    "- It is a tool for producing high quality forecasts for time series data that has multiple seasonality with linear or non-linear growth. It is based on an additive model where non-linear trends are fit with yearly and weekly seasonality, plus holidays. It works best with daily periodicity data with at least one year of historical data. Prophet is robust to missing data, shifts in the trend, and large outliers.\n",
    "\n",
    "- Website: https://facebook.github.io/prophet/\n",
    "- GitHub: https://github.com/facebook/prophet\n",
    "- Paper: https://peerj.com/preprints/3190.pdf"
   ]
  },
  {
   "cell_type": "markdown",
   "metadata": {},
   "source": []
  },
  {
   "cell_type": "markdown",
   "metadata": {},
   "source": [
    "<img src=\"../images/icon/ppt-icons.png\" alt=\"Concept-Alert\" style=\"width: 100px;float:left; margin-right:15px\"/>\n",
    "<br /> \n",
    "\n",
    "##  Mini-Challenge - 1\n",
    "***\n",
    "Load the `multiTimeline.csv` and convert the **Month** column into the datatype **datetime** using `to_datetime()` .\n",
    "Now rename the **Month** column name as **Date** and set it as the index and drop the extra column called **Date**."
   ]
  },
  {
   "cell_type": "code",
   "execution_count": null,
   "metadata": {},
   "outputs": [],
   "source": []
  },
  {
   "cell_type": "markdown",
   "metadata": {},
   "source": [
    "<img src=\"../images/icon/ppt-icons.png\" alt=\"Concept-Alert\" style=\"width: 100px;float:left; margin-right:15px\"/>\n",
    "<br /> \n",
    "\n",
    "##  Mini-Challenge - 2\n",
    "***\n",
    "Plot the trend in the data for the year **2012**"
   ]
  },
  {
   "cell_type": "code",
   "execution_count": null,
   "metadata": {},
   "outputs": [],
   "source": []
  },
  {
   "cell_type": "markdown",
   "metadata": {},
   "source": [
    "<img src=\"../images/icon/ppt-icons.png\" alt=\"Concept-Alert\" style=\"width: 100px;float:left; margin-right:15px\"/>\n",
    "<br /> \n",
    "\n",
    "##  Mini-Challenge - 3\n",
    "***\n",
    "Plot the time series for ony diet and gym"
   ]
  },
  {
   "cell_type": "code",
   "execution_count": null,
   "metadata": {},
   "outputs": [],
   "source": []
  },
  {
   "cell_type": "markdown",
   "metadata": {},
   "source": [
    "<img src=\"../images/icon/ppt-icons.png\" alt=\"Concept-Alert\" style=\"width: 100px;float:left; margin-right:15px\"/>\n",
    "<br /> \n",
    "\n",
    "##  Mini-Challenge - 4\n",
    "***\n",
    "Plot the rolling average for all the three features using the `.rolling()` method by passing the window size as 12 on the mean of the data with no `NaN` values"
   ]
  },
  {
   "cell_type": "code",
   "execution_count": null,
   "metadata": {},
   "outputs": [],
   "source": []
  },
  {
   "cell_type": "code",
   "execution_count": null,
   "metadata": {},
   "outputs": [],
   "source": []
  },
  {
   "cell_type": "markdown",
   "metadata": {},
   "source": [
    "<center> <h1> Thank you </h1> </center>"
   ]
  },
  {
   "cell_type": "code",
   "execution_count": null,
   "metadata": {},
   "outputs": [],
   "source": []
  },
  {
   "cell_type": "code",
   "execution_count": null,
   "metadata": {},
   "outputs": [],
   "source": []
  }
 ],
 "metadata": {
  "anaconda-cloud": {},
  "kernelspec": {
   "display_name": "Python 3",
   "language": "python",
   "name": "python3"
  },
  "language_info": {
   "codemirror_mode": {
    "name": "ipython",
    "version": 3
   },
   "file_extension": ".py",
   "mimetype": "text/x-python",
   "name": "python",
   "nbconvert_exporter": "python",
   "pygments_lexer": "ipython3",
   "version": "3.6.5"
  }
 },
 "nbformat": 4,
 "nbformat_minor": 1
}
