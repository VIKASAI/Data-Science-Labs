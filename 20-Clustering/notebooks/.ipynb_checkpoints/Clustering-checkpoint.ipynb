{
 "cells": [
  {
   "cell_type": "markdown",
   "metadata": {},
   "source": [
    "![26-Weeks-Logo](../images/26-weeks-of-data-science-banner.jpg)"
   ]
  },
  {
   "cell_type": "markdown",
   "metadata": {
    "slideshow": {
     "slide_type": "slide"
    }
   },
   "source": [
    "<h1 align=\"center\">Clustering</h1>"
   ]
  },
  {
   "cell_type": "markdown",
   "metadata": {
    "slideshow": {
     "slide_type": "slide"
    }
   },
   "source": [
    "## Agenda\n",
    "***\n",
    "* Introduction to Clustering\n",
    "* k-means clustering\n",
    "* Hierarchical clustering\n",
    "* Clustering in Python"
   ]
  },
  {
   "cell_type": "markdown",
   "metadata": {},
   "source": [
    "## What are we going to learn today ?\n",
    "***\n",
    "- Unsupervised Machine Learning\n",
    "- Some Applications Of Unsupervised Machine Learning\n",
    "- What is Clustering ?\n",
    "- Applications of Clustering\n",
    "\t- Applications in Supervised Learning\n",
    "\t- Applications in Unsupervised Learning\n",
    "- Types Of Clustering\n",
    "\t- K-Means Clustering\n",
    "\t\t- Mathematical Representation\n",
    "\t\t- Expectation-Maximization\n",
    "\t\t- K-Means Clustering Algorithm\n",
    "\t\t- Popularity of K-Means\n",
    "\t\t- K-Means Clustering in `sklearn`\n",
    "\t\t- Shortcomings Of K-Means\n",
    "\t\t- A Way Out\n",
    "\t- Hierarchical Clustering\n",
    "\t\t- Implementing Hierarchical Clustering\n",
    "\t\t- Agglomerative (bottom-up) Clustering\n",
    "\t\t- Divisive (top-down) Clustering\n",
    "\t\t- Which one to use ?\n",
    "\t\t- Deciding (Dis)similarity between clusters\n",
    "\t\t\t- Single Linkage\n",
    "\t\t\t- Complete Linkage\n",
    "\t\t\t- Average Linkage\n",
    "\t\t\t- Single vs Complete vs Average Linkage\n",
    "\t\t- Flat vs Hierarchical Clustering"
   ]
  },
  {
   "cell_type": "markdown",
   "metadata": {
    "slideshow": {
     "slide_type": "slide"
    }
   },
   "source": [
    "## Unsupervised Machine Learning\n",
    "***\n",
    "Now that we have ventured into the Supervised Machine Learning for some time, let's focuss on - Unsupervised Machine Learning.\n",
    "\n",
    "Unsupervised Machine Learning techniques are extremely useful in solving the problems pertaining to **clustering, dimensionality reduction and predicting PDF of a sample**."
   ]
  },
  {
   "cell_type": "markdown",
   "metadata": {
    "slideshow": {
     "slide_type": "slide"
    }
   },
   "source": [
    "## Some Applications of Unsupervised Machine Learning\n",
    "***\n",
    "**Dimensionality reductions**\n",
    "\n",
    "> In machine learning and statistics, dimensionality reduction or dimension reduction is the process of reducing the number of random variables under consideration, via obtaining a set of principal variables."
   ]
  },
  {
   "cell_type": "markdown",
   "metadata": {
    "slideshow": {
     "slide_type": "subslide"
    }
   },
   "source": [
    "## Some Applications of Unsupervised Machine Learning\n",
    "***\n",
    "**Density estimation**\n",
    "\n",
    "> In statistics, kernel density estimation (KDE) is a non-parametric way to estimate the probability density function of a random variable. Kernel density estimation is a fundamental data smoothing problem where inferences about the population are made, based on a finite data sample."
   ]
  },
  {
   "cell_type": "markdown",
   "metadata": {
    "slideshow": {
     "slide_type": "subslide"
    }
   },
   "source": [
    "## Some Applications of Unsupervised Machine Learning\n",
    "***\n",
    "**Clustering**\n",
    "\n",
    "> Cluster analysis or clustering is the task of grouping a set of objects in such a way that objects in the same group (called a cluster) are more similar (in some sense or another) to each other than to those in other groups (clusters)."
   ]
  },
  {
   "cell_type": "markdown",
   "metadata": {
    "slideshow": {
     "slide_type": "slide"
    }
   },
   "source": [
    "<img src=\"../images/Concept-Alert.png\" alt=\"Concept-Alert\" style=\"width: 100px;float:left; margin-right:15px\"/>\n",
    "<br />\n",
    "\n",
    "## What is Clustering ?\n",
    "***\n",
    "\n",
    "Clustering is Organizing data into clusters such that there is\n",
    "* high intra-cluster similarity\n",
    "* low inter-cluster similarity\n",
    "\n",
    "Informally, finding natural groupings among objects"
   ]
  },
  {
   "cell_type": "markdown",
   "metadata": {
    "slideshow": {
     "slide_type": "subslide"
    }
   },
   "source": [
    "**But, Finding similarities is not always that easy!**"
   ]
  },
  {
   "cell_type": "markdown",
   "metadata": {
    "slideshow": {
     "slide_type": "subslide"
    }
   },
   "source": [
    "## So What is Clustering Anyway?\n",
    "***\n",
    "* Cluster analysis itself is not one specific algorithm, but the general task to be solved.\n",
    "* It can be achieved by various algorithms that differ significantly in their notion of \n",
    "    * what constitutes a cluster, and\n",
    "    * how to efficiently find them.\n",
    "    \n",
    "Let's see how some of them work. But before that, let's understand some applications and types of clustering."
   ]
  },
  {
   "cell_type": "markdown",
   "metadata": {
    "slideshow": {
     "slide_type": "subslide"
    }
   },
   "source": [
    "# Applications of Clustering - Unsupervised Machine Learning\n",
    "***\n",
    "Clustering is an extremely useful technique in **both supervised and unsupervised machine learning**\n",
    "\n",
    "\n",
    "\n",
    "* Clustering is one of the most popular techniques for spotting the underlying pattern in a dataset\n",
    "* Some of the use cases are:\n",
    "    * Customer segmentation\n",
    "    * Locating an optimum location for a business outlet\n",
    "    * Clustering web-pages/documents based on their content "
   ]
  },
  {
   "cell_type": "markdown",
   "metadata": {
    "slideshow": {
     "slide_type": "subslide"
    }
   },
   "source": [
    "# Applications of Clustering - Supervised Machine Learning\n",
    "***\n",
    "\n",
    "#### Exploratory Data Analysis\n",
    "* Which observations are nearer to each-other\n",
    "\n",
    "#### Feature Engineering\n",
    "* Missing Value Imputation\n",
    "* Outlier Detection\n",
    "* As Independent Variables / Features"
   ]
  },
  {
   "cell_type": "markdown",
   "metadata": {
    "slideshow": {
     "slide_type": "slide"
    }
   },
   "source": [
    "<img src=\"../images/Concept-Alert.png\" alt=\"Concept-Alert\" style=\"width: 100px;float:left; margin-right:15px\"/>\n",
    "<br />\n",
    "\n",
    "## Types of Clustering:\n",
    "***\n",
    "\n",
    "**Flat or Partitional clustering**, in which, we try to partition the dataset into predefined different number of groups. These partitions are independent of each other. Some of the examples are:\n",
    "* K-means\n",
    "* Gaussian Mixture\n",
    "    \n",
    "    \n",
    "![](../images/image03.png)"
   ]
  },
  {
   "cell_type": "markdown",
   "metadata": {
    "slideshow": {
     "slide_type": "subslide"
    }
   },
   "source": [
    "## Types of Clustering:\n",
    "***\n",
    "**Hierarchical clustering**, in which,\n",
    "\n",
    "* Partitions can be **visualized using a tree structure** (aka dendrogram)\n",
    "* Does not need the number of clusters as input\n",
    "* Possible to view partitions at different levels of granularities (i.e., can refine/coarsen clusters) using different K\n",
    "    \n",
    "![](../images/image02.png)"
   ]
  },
  {
   "cell_type": "markdown",
   "metadata": {
    "slideshow": {
     "slide_type": "subslide"
    }
   },
   "source": [
    "Great! now that we understand basic things about clustering, let's go on to understanding the first clustering algorithm - **K-means**!"
   ]
  },
  {
   "cell_type": "markdown",
   "metadata": {
    "slideshow": {
     "slide_type": "slide"
    }
   },
   "source": [
    "## K-means Clustering\n",
    "***\n",
    "Many clustering algorithms are available in `Scikit-Learn` and elsewhere, but perhaps the simplest to understand is known as k-means clustering"
   ]
  },
  {
   "cell_type": "markdown",
   "metadata": {
    "slideshow": {
     "slide_type": "subslide"
    }
   },
   "source": [
    "<img src=\"../images/Concept-Alert.png\" alt=\"Concept-Alert\" style=\"width: 100px;float:left; margin-right:15px\"/>\n",
    "<br />\n",
    "\n",
    "## K-means Clustering\n",
    "***\n",
    "\n",
    "k-means clustering aims to partition **n observations** into **k clusters** in which each observation belongs to the cluster with the nearest mean, serving as a prototype of the cluster.\n",
    "\n",
    "\n",
    "Clusters in \"k-means clustering\" follow these two underlying rules \n",
    "* The \"cluster center\" is the arithmetic mean of all the points belonging to the cluster.\n",
    "* Each point is closer to its own cluster center than to other cluster centers."
   ]
  },
  {
   "cell_type": "markdown",
   "metadata": {
    "slideshow": {
     "slide_type": "slide"
    }
   },
   "source": [
    "Sounds easy? Let's try and understand this in a bit more detail."
   ]
  },
  {
   "cell_type": "markdown",
   "metadata": {
    "slideshow": {
     "slide_type": "subslide"
    }
   },
   "source": [
    "<img src=\"../images/Maths-Insight.png\" alt=\"Maths-Insight\" style=\"width: 100px;float:left; margin-right:15px\"/>\n",
    "<br />\n",
    "\n",
    "## K-means: Mathematical Representation\n",
    "***\n",
    "\n",
    "K-means objective minimizes the total distortion (sum of distances of points from their cluster centers)\n",
    "\n",
    "The objective function for k-means is as follows:\n",
    "$$J(µ,r) = \\sum_{n=1}^{N}\\sum_{k=1}^{K}r_{nk}||X_n − µ_k ||^2$$\n",
    "\n",
    "* Where µ1, . . . , µK are the K cluster centroids (means)\n",
    "* And $r_{nk}$ ∈ {0, 1} are indicator denoting whether point $x_n$ belongs to cluster k\n"
   ]
  },
  {
   "cell_type": "markdown",
   "metadata": {
    "slideshow": {
     "slide_type": "subslide"
    }
   },
   "source": [
    "<img src=\"../images/Maths-Insight.png\" alt=\"Maths-Insight\" style=\"width: 100px;float:left; margin-right:15px\"/>\n",
    "<br />\n",
    "\n",
    "## K-means: Mathematical Representation\n",
    "***\n",
    "\n",
    "The exact optimization of the K-means objective is **NP-hard**, which means that actually solving the problem is computationally very expensive, however, given a solution, checking whether it is correct or not is relatively easy!\n",
    "\n",
    "\n",
    "This means that actually solving the problem and coming up with cluster centroids is computationally very expensive. However, given a set of cluster centroids, checking if they are good approximations is computationally cheap. Therefore, the **K-means algorithm is performed using a heuristic** that helps us converge to a solution faster. Let's see how that works."
   ]
  },
  {
   "cell_type": "markdown",
   "metadata": {
    "slideshow": {
     "slide_type": "subslide"
    }
   },
   "source": [
    "<img src=\"../images/Maths-Insight.png\" alt=\"Maths-Insight\" style=\"width: 100px;float:left; margin-right:15px\"/>\n",
    "<br />\n",
    "\n",
    "## K-means: Expectation–Maximization\n",
    "***\n",
    "\n",
    "k-means is a particularly simple and easy-to-understand application of an iterative algorithm known as **Expectation–Maximization**, and we will walk through it briefly here. \n",
    "\n",
    "\n",
    "The expectation–maximization approach here consists of the following procedure:\n",
    "1. Guess some cluster centers\n",
    "2. Repeat until converged\n",
    "    * E-Step: assign points to the nearest cluster center\n",
    "    * M-Step: set the cluster centers to the mean"
   ]
  },
  {
   "cell_type": "markdown",
   "metadata": {
    "slideshow": {
     "slide_type": "subslide"
    }
   },
   "source": [
    "## More on Expectation–Maximization\n",
    "***\n",
    "\n",
    "* Here the \"E-step\" or \"Expectation step\" is so-named because it involves updating our expectation of which cluster each point belongs to. \n",
    "* The \"M-step\" or \"Maximization step\" is so-named because it involves maximizing some fitness function that defines the location of the cluster centers — in this case, that maximization is accomplished by taking a simple mean of the data in each cluster.\n",
    "\n",
    "\n",
    "\n",
    "This algorithm can be summarized as follows: **Under typical circumstances, each repetition of the E-step and M-step will always result in a better estimate of the cluster characteristics.**"
   ]
  },
  {
   "cell_type": "markdown",
   "metadata": {
    "slideshow": {
     "slide_type": "subslide"
    }
   },
   "source": [
    "Great! Now, let's see how this heuristic is performed."
   ]
  },
  {
   "cell_type": "markdown",
   "metadata": {
    "slideshow": {
     "slide_type": "subslide"
    }
   },
   "source": [
    "## K-means Clustering Algorithm\n",
    "***\n",
    "* **Step 1**: Start by making a guess on where the central points of each cluster are. Let’s call these pseudo-centers, since we do not yet know if they are actually at the center of their clusters.\n",
    "* **Step 2**: Assign each data point to the nearest pseudo-center. By doing so, we have just formed clusters, with each cluster comprising all data points associated with its pseudo-center.\n",
    "* **Step 3**: Update the location of each cluster’s pseudo-center, such that it is now indeed in the center of all its members.\n",
    "* **Step 4**: Repeat the steps of re-assigning cluster members (Step 2) and re-locating cluster centers (Step 3), until there are no more changes to cluster membership.\n"
   ]
  },
  {
   "cell_type": "markdown",
   "metadata": {
    "slideshow": {
     "slide_type": "subslide"
    }
   },
   "source": [
    "![](../images/image23.png)\n",
    "<br/>\n",
    "Image Source : https://hemberg-lab.github.io/scRNA.seq.course/biological-analysis.html"
   ]
  },
  {
   "cell_type": "markdown",
   "metadata": {
    "slideshow": {
     "slide_type": "slide"
    }
   },
   "source": [
    "## Popularity of k-means\n",
    "***\n",
    "K-Means is the 'go-to' clustering algorithm for many because it is \n",
    "* Fast\n",
    "* Easy to understand\n",
    "* Available everywhere"
   ]
  },
  {
   "cell_type": "markdown",
   "metadata": {
    "slideshow": {
     "slide_type": "subslide"
    }
   },
   "source": [
    "## Popularity of k-means\n",
    "***\n",
    "To demonstrate the popularity of k-means, here are some variants.\n",
    "* K-Means\n",
    "* K-Means++ (only changes how to initialize centroids)\n",
    "* Online K-Means\n",
    "* Spherical K-Means\n",
    "* K-Medoids\n",
    "* Kernel K-Means\n",
    "* K-Modes\n",
    "* Bisecting K-Means\n",
    "* Fuzzy C-Means"
   ]
  },
  {
   "cell_type": "markdown",
   "metadata": {
    "slideshow": {
     "slide_type": "subslide"
    }
   },
   "source": [
    "<img src=\"../images/Technical-Stuff.png\" alt=\"Technical-Stuff\" style=\"width: 100px;float:left; margin-right:15px\"/>\n",
    "<br />\n",
    "\n",
    "## K-means clustering in `sklearn`\n",
    "***\n",
    "\n",
    "Many clustering algorithms are available in Scikit-Learn and elsewhere, but perhaps the simplest to understand is k-means clustering, which is implemented in **`sklearn.cluster.KMeans`**"
   ]
  },
  {
   "cell_type": "code",
   "execution_count": 1,
   "metadata": {
    "slideshow": {
     "slide_type": "subslide"
    }
   },
   "outputs": [],
   "source": [
    "import pandas as pd, numpy as np\n",
    "from sklearn.cluster import KMeans\n",
    "from sklearn.datasets import load_iris"
   ]
  },
  {
   "cell_type": "code",
   "execution_count": 2,
   "metadata": {
    "slideshow": {
     "slide_type": "subslide"
    }
   },
   "outputs": [],
   "source": [
    "iris = load_iris()"
   ]
  },
  {
   "cell_type": "code",
   "execution_count": 3,
   "metadata": {
    "slideshow": {
     "slide_type": "subslide"
    }
   },
   "outputs": [],
   "source": [
    "X = iris.data\n",
    "y = iris.target"
   ]
  },
  {
   "cell_type": "code",
   "execution_count": 4,
   "metadata": {
    "slideshow": {
     "slide_type": "subslide"
    }
   },
   "outputs": [
    {
     "data": {
      "text/plain": [
       "KMeans(algorithm='auto', copy_x=True, init='random', max_iter=300,\n",
       "    n_clusters=5, n_init=10, n_jobs=None, precompute_distances='auto',\n",
       "    random_state=None, tol=0.0001, verbose=0)"
      ]
     },
     "execution_count": 4,
     "metadata": {},
     "output_type": "execute_result"
    }
   ],
   "source": [
    "km = KMeans(init=\"random\", n_clusters=5)\n",
    "km.fit(X)"
   ]
  },
  {
   "cell_type": "code",
   "execution_count": 5,
   "metadata": {
    "slideshow": {
     "slide_type": "subslide"
    }
   },
   "outputs": [
    {
     "data": {
      "text/plain": [
       "array([0, 0, 0, 0, 0, 0, 0, 0, 0, 0, 0, 0, 0, 0, 0, 0, 0, 0, 0, 0, 0, 0,\n",
       "       0, 0, 0, 0, 0, 0, 0, 0, 0, 0, 0, 0, 0, 0, 0, 0, 0, 0, 0, 0, 0, 0,\n",
       "       0, 0, 0, 0, 0, 0, 3, 3, 3, 1, 3, 1, 3, 1, 3, 1, 1, 1, 1, 3, 1, 3,\n",
       "       1, 1, 3, 1, 3, 1, 3, 3, 3, 3, 3, 3, 3, 1, 1, 1, 1, 3, 1, 3, 3, 3,\n",
       "       1, 1, 1, 3, 1, 1, 1, 1, 1, 3, 1, 1, 2, 3, 4, 2, 2, 4, 1, 4, 2, 4,\n",
       "       2, 2, 2, 3, 2, 2, 2, 4, 4, 3, 2, 3, 4, 3, 2, 4, 3, 3, 2, 4, 4, 4,\n",
       "       2, 3, 3, 4, 2, 2, 3, 2, 2, 2, 3, 2, 2, 2, 3, 2, 2, 3], dtype=int32)"
      ]
     },
     "execution_count": 5,
     "metadata": {},
     "output_type": "execute_result"
    }
   ],
   "source": [
    "km.labels_"
   ]
  },
  {
   "cell_type": "code",
   "execution_count": 6,
   "metadata": {
    "slideshow": {
     "slide_type": "subslide"
    }
   },
   "outputs": [
    {
     "data": {
      "text/plain": [
       "array([[5.006     , 3.428     , 1.462     , 0.246     ],\n",
       "       [5.53214286, 2.63571429, 3.96071429, 1.22857143],\n",
       "       [6.52916667, 3.05833333, 5.50833333, 2.1625    ],\n",
       "       [6.24722222, 2.84722222, 4.775     , 1.575     ],\n",
       "       [7.475     , 3.125     , 6.3       , 2.05      ]])"
      ]
     },
     "execution_count": 6,
     "metadata": {},
     "output_type": "execute_result"
    }
   ],
   "source": [
    "km.cluster_centers_"
   ]
  },
  {
   "cell_type": "code",
   "execution_count": 7,
   "metadata": {
    "slideshow": {
     "slide_type": "subslide"
    }
   },
   "outputs": [
    {
     "data": {
      "text/plain": [
       "array([4.9, 3. , 1.4, 0.2])"
      ]
     },
     "execution_count": 7,
     "metadata": {},
     "output_type": "execute_result"
    }
   ],
   "source": [
    "X[1]"
   ]
  },
  {
   "cell_type": "code",
   "execution_count": 8,
   "metadata": {
    "slideshow": {
     "slide_type": "subslide"
    }
   },
   "outputs": [
    {
     "data": {
      "text/plain": [
       "array([0], dtype=int32)"
      ]
     },
     "execution_count": 8,
     "metadata": {},
     "output_type": "execute_result"
    }
   ],
   "source": [
    "km.predict(X[1, np.newaxis])"
   ]
  },
  {
   "cell_type": "markdown",
   "metadata": {
    "slideshow": {
     "slide_type": "slide"
    }
   },
   "source": [
    "<img src=\"../images/Technical-Stuff.png\" alt=\"Technical-Stuff\" style=\"width: 100px;float:left; margin-right:15px\"/>\n",
    "<br />\n",
    "\n",
    "# Synthetic data for testing clustering algorithms\n",
    "***\n",
    "\n",
    "We'll create (and plot) synthetic datasets to understand k-means clustering better. "
   ]
  },
  {
   "cell_type": "code",
   "execution_count": 9,
   "metadata": {
    "slideshow": {
     "slide_type": "subslide"
    }
   },
   "outputs": [],
   "source": [
    "import matplotlib.pyplot as plt\n",
    "import seaborn as sns\n",
    "import sklearn.cluster as cluster\n",
    "import time\n",
    "\n",
    "%matplotlib inline\n",
    "sns.set_context('poster')\n",
    "sns.set_color_codes()\n",
    "plot_kwds = {'alpha' : 0.25, 's' : 80, 'linewidths':0}"
   ]
  },
  {
   "cell_type": "code",
   "execution_count": 10,
   "metadata": {
    "slideshow": {
     "slide_type": "subslide"
    }
   },
   "outputs": [
    {
     "name": "stdout",
     "output_type": "stream",
     "text": [
      "(150, 2)\n"
     ]
    }
   ],
   "source": [
    "# generate two clusters: a with 100 points, b with 50:\n",
    "np.random.seed(9)  # for repeatability of this tutorial\n",
    "a = np.random.multivariate_normal([10, 0], [[3, 1], [1, 4]], size=[100,])\n",
    "b = np.random.multivariate_normal([0, 20], [[3, 1], [1, 4]], size=[50,])\n",
    "X = np.concatenate((a, b),)\n",
    "print (X.shape)  # 150 samples with 2 dimensions"
   ]
  },
  {
   "cell_type": "code",
   "execution_count": 11,
   "metadata": {
    "slideshow": {
     "slide_type": "subslide"
    }
   },
   "outputs": [
    {
     "data": {
      "image/png": "[encoded data removed]",
      "text/plain": [
       "<Figure size 432x288 with 1 Axes>"
      ]
     },
     "metadata": {},
     "output_type": "display_data"
    }
   ],
   "source": [
    "plt.scatter(X[:,0], X[:,1], c='b', **plot_kwds)\n",
    "frame = plt.gca()\n",
    "frame.axes.get_xaxis().set_visible(False)\n",
    "frame.axes.get_yaxis().set_visible(False)\n",
    "plt.show()"
   ]
  },
  {
   "cell_type": "code",
   "execution_count": 12,
   "metadata": {
    "slideshow": {
     "slide_type": "subslide"
    }
   },
   "outputs": [
    {
     "data": {
      "image/png": "[encoded data removed]",
      "text/plain": [
       "<Figure size 432x288 with 1 Axes>"
      ]
     },
     "metadata": {},
     "output_type": "display_data"
    }
   ],
   "source": [
    "c = np.random.multivariate_normal([40, 40], [[20, 1], [1, 30]], size=[200,])\n",
    "d = np.random.multivariate_normal([80, 80], [[30, 1], [1, 30]], size=[200,])\n",
    "e = np.random.multivariate_normal([0, 100], [[100, 1], [1, 100]], size=[200,])\n",
    "X2 = np.concatenate((X, c, d, e),)\n",
    "plt.scatter(X2[:,0], X2[:,1],  c='b', **plot_kwds)\n",
    "frame = plt.gca()\n",
    "frame.axes.get_xaxis().set_visible(False)\n",
    "frame.axes.get_yaxis().set_visible(False)\n",
    "plt.show()"
   ]
  },
  {
   "cell_type": "code",
   "execution_count": 13,
   "metadata": {
    "slideshow": {
     "slide_type": "subslide"
    }
   },
   "outputs": [],
   "source": [
    "def plot_clusters(data, algorithm, args, kwds):\n",
    "    start_time = time.time()\n",
    "    labels = algorithm(*args, **kwds).fit_predict(data)\n",
    "    end_time = time.time()\n",
    "    palette = sns.color_palette('deep', np.unique(labels).max() + 1)\n",
    "    colors = [palette[x] if x >= 0 else (0.0, 0.0, 0.0) for x in labels]\n",
    "    plt.scatter(data.T[0], data.T[1], c=colors, **plot_kwds)\n",
    "    frame = plt.gca()\n",
    "    frame.axes.get_xaxis().set_visible(False)\n",
    "    frame.axes.get_yaxis().set_visible(False)\n",
    "    plt.title('Clusters found by {}'.format(str(algorithm.__name__)), fontsize=24)\n",
    "    plt.text(5, 10, 'Clustering took {:.2f} s'.format(end_time - start_time), fontsize=14)"
   ]
  },
  {
   "cell_type": "code",
   "execution_count": 14,
   "metadata": {
    "slideshow": {
     "slide_type": "subslide"
    }
   },
   "outputs": [
    {
     "data": {
      "image/png": "[encoded data removed]",
      "text/plain": [
       "<Figure size 432x288 with 1 Axes>"
      ]
     },
     "metadata": {},
     "output_type": "display_data"
    }
   ],
   "source": [
    "plot_clusters(X, cluster.KMeans, (),{'n_clusters':2})"
   ]
  },
  {
   "cell_type": "code",
   "execution_count": 15,
   "metadata": {
    "slideshow": {
     "slide_type": "subslide"
    }
   },
   "outputs": [
    {
     "data": {
      "image/png": "[encoded data removed]",
      "text/plain": [
       "<Figure size 432x288 with 1 Axes>"
      ]
     },
     "metadata": {},
     "output_type": "display_data"
    }
   ],
   "source": [
    "plot_clusters(X2, cluster.KMeans, (), {'n_clusters':5})"
   ]
  },
  {
   "cell_type": "markdown",
   "metadata": {
    "slideshow": {
     "slide_type": "subslide"
    }
   },
   "source": [
    "Wow, now that we understand about k-means better, there a few things we need to keep in mind as well. K-means have some shortcomings which we need to understand if want to use the technique successfully."
   ]
  },
  {
   "cell_type": "markdown",
   "metadata": {
    "slideshow": {
     "slide_type": "slide"
    }
   },
   "source": [
    "<img src=\"../images/Technical-Stuff.png\" alt=\"Technical-Stuff\" style=\"width: 100px;float:left; margin-right:15px\"/>\n",
    "<br />\n",
    "\n",
    "## Shortcomings of k-means\n",
    "***\n",
    "\n",
    "**The globally optimal result may not be achieved**\n",
    "* There is no assurance that it will lead to the global best solution. \n",
    "* For example, if we use a different random seed in our simple procedure, the particular starting guesses lead to poor results\n",
    "\n",
    "**Way out**\n",
    "* For this reason, it is common for the algorithm to be run for multiple starting guesses, as indeed Scikit-Learn does by default (set by the n_init parameter, which defaults to 10).\n",
    "* Use better initialization strategies like k-means++"
   ]
  },
  {
   "cell_type": "markdown",
   "metadata": {
    "slideshow": {
     "slide_type": "subslide"
    }
   },
   "source": [
    "<img src=\"../images/Technical-Stuff.png\" alt=\"Technical-Stuff\" style=\"width: 100px;float:left; margin-right:15px\"/>\n",
    "<br />\n",
    "\n",
    "## Shortcomings of k-means\n",
    "***\n",
    "\n",
    "**You need to specify exactly how many clusters you expect**\n",
    "* If you know a lot about your data then that is something you might expect to know\n",
    "* If, on the other hand, you are simply exploring a new dataset, then 'number of clusters' is a hard parameter to have any good intuition for\n",
    "\n",
    "**Way out**\n",
    "\n",
    "The usually proposed solution is to run K-Means for many different 'number of clusters' values and score each clustering with some 'cluster goodness' measure (usually a variation on intra-cluster vs inter-cluster distances) and attempt to find an 'elbow'"
   ]
  },
  {
   "cell_type": "code",
   "execution_count": 16,
   "metadata": {
    "slideshow": {
     "slide_type": "subslide"
    }
   },
   "outputs": [],
   "source": [
    "# k-means determine k\n",
    "distortions = []\n",
    "K = range(1,8)\n",
    "for k in K:\n",
    "    kmeanModel = KMeans(n_clusters=k)\n",
    "    kmeanModel.fit(X)\n",
    "    distortions.append(kmeanModel.inertia_) "
   ]
  },
  {
   "cell_type": "code",
   "execution_count": 17,
   "metadata": {
    "slideshow": {
     "slide_type": "subslide"
    }
   },
   "outputs": [
    {
     "data": {
      "image/png": "[encoded data removed]",
      "text/plain": [
       "<Figure size 432x288 with 1 Axes>"
      ]
     },
     "metadata": {},
     "output_type": "display_data"
    }
   ],
   "source": [
    "# Plot the elbow\n",
    "plt.plot(K, distortions, 'bx-')\n",
    "plt.xlabel('k')\n",
    "plt.ylabel('Distortion')\n",
    "plt.title('The Elbow Method showing the optimal k')\n",
    "plt.show()"
   ]
  },
  {
   "cell_type": "code",
   "execution_count": 18,
   "metadata": {
    "slideshow": {
     "slide_type": "subslide"
    }
   },
   "outputs": [],
   "source": [
    "# k means determine k\n",
    "distortions = []\n",
    "K = range(1,12)\n",
    "for k in K:\n",
    "    kmeanModel = KMeans(n_clusters=k)\n",
    "    kmeanModel.fit(X2)\n",
    "    distortions.append(kmeanModel.inertia_)"
   ]
  },
  {
   "cell_type": "code",
   "execution_count": 19,
   "metadata": {
    "slideshow": {
     "slide_type": "subslide"
    }
   },
   "outputs": [
    {
     "data": {
      "image/png": "[encoded data removed]",
      "text/plain": [
       "<Figure size 432x288 with 1 Axes>"
      ]
     },
     "metadata": {},
     "output_type": "display_data"
    }
   ],
   "source": [
    "# Plot the elbow\n",
    "plt.plot(K, distortions, 'bx-')\n",
    "plt.xlabel('k')\n",
    "plt.ylabel('Distortion')\n",
    "plt.title('The Elbow Method showing the optimal k')\n",
    "plt.show()"
   ]
  },
  {
   "cell_type": "markdown",
   "metadata": {
    "slideshow": {
     "slide_type": "subslide"
    }
   },
   "source": [
    "Here, as we can see the there is an elbow created at k=2 and k=4, which marks sudden drop in distortions, which indicates that k=2 and 4 might be the correct number of clusters."
   ]
  },
  {
   "cell_type": "markdown",
   "metadata": {
    "slideshow": {
     "slide_type": "subslide"
    }
   },
   "source": [
    "## Shortcomings of k-means\n",
    "***\n",
    "**k-means is limited to linear cluster boundaries**\n",
    "* The fundamental model assumptions of k-means (points will be closer to their own cluster center than to others) means that the algorithm will often be ineffective if the clusters have complicated geometries.\n",
    "* In particular, the boundaries between k-means clusters will always be linear, which means that it will fail for more complicated boundaries:"
   ]
  },
  {
   "cell_type": "code",
   "execution_count": 20,
   "metadata": {
    "slideshow": {
     "slide_type": "subslide"
    }
   },
   "outputs": [],
   "source": [
    "from sklearn.datasets import make_moons\n",
    "X3, y3 = make_moons(200, noise=.05, random_state=0)"
   ]
  },
  {
   "cell_type": "code",
   "execution_count": 21,
   "metadata": {
    "slideshow": {
     "slide_type": "subslide"
    }
   },
   "outputs": [
    {
     "data": {
      "image/png": "[encoded data removed]",
      "text/plain": [
       "<Figure size 432x288 with 1 Axes>"
      ]
     },
     "metadata": {},
     "output_type": "display_data"
    }
   ],
   "source": [
    "labels = KMeans(2, random_state=0).fit_predict(X3)\n",
    "plt.scatter(X3[:, 0], X3[:, 1], c=labels, s=50, cmap='viridis');"
   ]
  },
  {
   "cell_type": "markdown",
   "metadata": {
    "slideshow": {
     "slide_type": "subslide"
    }
   },
   "source": [
    "<img src=\"../images/Technical-Stuff.png\" alt=\"Technical-Stuff\" style=\"width: 100px;float:left; margin-right:15px\"/>\n",
    "<br />\n",
    "\n",
    "### Way out\n",
    "***\n",
    "\n",
    "One way to overcome this is through kernelized k-means, which is implemented in `Scikit-Learn` within the `SpectralClustering` estimator. It uses the graph of nearest neighbors to compute a higher-dimensional representation of the data, and then assigns labels using a k-means algorithm\n",
    "\n",
    "We will not be covering these topics. However, here is [sklearn's page on various clustering techniques](http://scikit-learn.org/stable/modules/clustering.html). It is good starting point."
   ]
  },
  {
   "cell_type": "code",
   "execution_count": 22,
   "metadata": {
    "slideshow": {
     "slide_type": "subslide"
    }
   },
   "outputs": [
    {
     "name": "stderr",
     "output_type": "stream",
     "text": [
      "/home/pranav/anaconda3/lib/python3.6/site-packages/sklearn/manifold/spectral_embedding_.py:237: UserWarning: Graph is not fully connected, spectral embedding may not work as expected.\n",
      "  warnings.warn(\"Graph is not fully connected, spectral embedding\"\n"
     ]
    },
    {
     "data": {
      "image/png": "[encoded data removed]",
      "text/plain": [
       "<Figure size 432x288 with 1 Axes>"
      ]
     },
     "metadata": {},
     "output_type": "display_data"
    }
   ],
   "source": [
    "from sklearn.cluster import SpectralClustering\n",
    "model = SpectralClustering(n_clusters=2, affinity='nearest_neighbors', assign_labels='kmeans')\n",
    "labels = model.fit_predict(X3)\n",
    "plt.scatter(X3[:, 0], X3[:, 1], c=labels, s=50, cmap='viridis');\n"
   ]
  },
  {
   "cell_type": "markdown",
   "metadata": {
    "slideshow": {
     "slide_type": "subslide"
    }
   },
   "source": [
    "## Shortcomings of k-means\n",
    "***\n",
    "1. **It is a partitioning algorithm**\n",
    "    * It partitions your dataset into as many (assumed to be globular) chunks as you ask for by attempting to minimize intra-partition distances\n",
    "    * Can not accommodate clusters of different shapes (other than the one determined by its distance metric)"
   ]
  },
  {
   "cell_type": "markdown",
   "metadata": {
    "slideshow": {
     "slide_type": "subslide"
    }
   },
   "source": [
    "## Shortcomings of k-means\n",
    "***\n",
    "2. **Inability to identify non-linear boundaries**\n",
    "\n",
    "![](../images/image22.png)\n",
    "\n",
    "\n",
    "***\n",
    "![](../images/image25.png)"
   ]
  },
  {
   "cell_type": "markdown",
   "metadata": {
    "slideshow": {
     "slide_type": "subslide"
    }
   },
   "source": [
    "## Shortcomings of k-means\n",
    "***\n",
    "**k-means can be slow for large numbers of samples**\n",
    "\n",
    "* Because each iteration of k-means must access every point in the dataset, the algorithm can be relatively slow as the number of samples grows. \n",
    "\n",
    "**Way out**\n",
    "* One way to overcome this problem is through relaxing the requirement to use all data at each iteration.\n",
    "* For example, we might just use a subset of the data to update the cluster centers at each step. \n",
    "* This is the idea behind **batch-based k-means algorithms**, one form of which is implemented in **`sklearn.cluster.MiniBatchKMeans`**. "
   ]
  },
  {
   "cell_type": "markdown",
   "metadata": {
    "slideshow": {
     "slide_type": "subslide"
    }
   },
   "source": [
    "## Shortcomings of k-means\n",
    "***\n",
    "Read [this fabulous post on cross-validated](https://stats.stackexchange.com/questions/133656/how-to-understand-the-drawbacks-of-k-means) for a more detailed understanding"
   ]
  },
  {
   "cell_type": "markdown",
   "metadata": {
    "slideshow": {
     "slide_type": "subslide"
    }
   },
   "source": [
    "Nice. Seems like K-means is one heck of a clustering algorithm. Now, let's understand a thing or two about another clustering algorithm family known as Hierarchical Clustering "
   ]
  },
  {
   "cell_type": "markdown",
   "metadata": {
    "slideshow": {
     "slide_type": "subslide"
    }
   },
   "source": [
    "<img src=\"../images/Concept-Alert.png\" alt=\"Concept-Alert\" style=\"width: 100px;float:left; margin-right:15px\"/>\n",
    "<br />\n",
    "\n",
    "## Hierarchical Clustering\n",
    "***\n",
    "\n",
    "\n",
    "Hierarchical clustering is where we build a cluster tree (aka dendrogram) to represent data, where each group (or “node”) is linked to two or more successor groups. \n",
    "* The groups are nested and organized as a tree, which ideally ends up as a meaningful classification scheme.\n",
    "* Each node in the cluster tree contains a group of similar data; Nodes are placed on the graph next to other, similar nodes. \n",
    "* Clusters at one level are joined with clusters in the next level up, using a degree of similarity; \n",
    "* The process carries on until all nodes are in the tree, which gives a visual snapshot of the data contained in the whole set. \n",
    "* The total number of clusters is not predetermined before you start the tree creation"
   ]
  },
  {
   "cell_type": "markdown",
   "metadata": {
    "slideshow": {
     "slide_type": "subslide"
    }
   },
   "source": [
    "![](http://www.statisticshowto.com/wp-content/uploads/2016/11/clustergram.png)"
   ]
  },
  {
   "cell_type": "markdown",
   "metadata": {
    "slideshow": {
     "slide_type": "slide"
    }
   },
   "source": [
    "## Implementing Hierarchical Clustering\n",
    "***\n",
    "\n",
    "There are two major ways in which hierarchical clustering can be carried out:\n",
    "\n",
    "1. Agglomerative or Bottom-Up Clustering\n",
    "2. Divisive or Top-Down Clustering"
   ]
  },
  {
   "cell_type": "markdown",
   "metadata": {
    "slideshow": {
     "slide_type": "slide"
    }
   },
   "source": [
    "## Agglomerative (bottom-up) Clustering\n",
    "***\n",
    "1. Start with each example in its own singleton cluster\n",
    "2. At each time-step, greedily merge 2 most similar clusters\n",
    "3. Stop when there is a single cluster of all examples, else go to 2"
   ]
  },
  {
   "cell_type": "markdown",
   "metadata": {
    "slideshow": {
     "slide_type": "slide"
    }
   },
   "source": [
    "## Divisive (top-down) Clustering\n",
    "***\n",
    "\n",
    "1. Start with all examples in the same cluster\n",
    "2. At each time-step, remove the “outsiders” from the least cohesive cluster\n",
    "3. Stop when each example is in its own singleton cluster, else go to 2"
   ]
  },
  {
   "cell_type": "markdown",
   "metadata": {
    "slideshow": {
     "slide_type": "slide"
    }
   },
   "source": [
    "<img src=\"../images/Concept-Alert.png\" alt=\"Concept-Alert\" style=\"width: 100px;float:left; margin-right:15px\"/>\n",
    "<br />\n",
    "\n",
    "## Which one to Use?\n",
    "***\n",
    "\n",
    "* Agglomerative Clustering is simpler to implement because for top-down clustering, we need a second, flat clustering algorithm as a `subroutine`. \n",
    "* However, top-Down routine has the advantage of being more efficient if we do not generate a complete hierarchy all the way down to individual document leaves. \n",
    "* For a fixed number of top levels, using an efficient flat algorithm like  $K$-means, top-down algorithms are linear in the number of documents and clusters.\n",
    "* There is also evidence that divisive algorithms produce more accurate hierarchies than bottom-up algorithms in some circumstances according to [this Stanford University Review](https://nlp.stanford.edu/IR-book/html/htmledition/references-and-further-reading-17.html#sec:hclstfurther) . "
   ]
  },
  {
   "cell_type": "markdown",
   "metadata": {
    "slideshow": {
     "slide_type": "slide"
    }
   },
   "source": [
    "## Deciding (Dis)similarity between clusters\n",
    "***\n",
    "In both techniques above, we discussed finding out the similarity or dissmilarity between two cluster. The question is -- How to measure them?\n",
    "\n",
    "\n",
    "Before any clustering is performed, it is required to determine the **proximity matrix containing the distance between each point using a distance function**. \n",
    "Then, the matrix is updated to display the distance between each cluster. \n",
    "The following three methods differ in how the distance between each cluster is measured."
   ]
  },
  {
   "cell_type": "markdown",
   "metadata": {
    "slideshow": {
     "slide_type": "subslide"
    }
   },
   "source": [
    "### Single Linkage\n",
    "***\n",
    "In single linkage hierarchical clustering, the distance between two clusters is defined as the shortest distance between two points in each cluster. For example, the distance between clusters “r” and “s” to the left is equal to the length of the arrow between their two closest points."
   ]
  },
  {
   "cell_type": "markdown",
   "metadata": {
    "slideshow": {
     "slide_type": "subslide"
    }
   },
   "source": [
    "![](../images/image05.png)"
   ]
  },
  {
   "cell_type": "markdown",
   "metadata": {
    "slideshow": {
     "slide_type": "subslide"
    }
   },
   "source": [
    "### Complete Linkage\n",
    "***\n",
    "In complete linkage hierarchical clustering, the distance between two clusters is defined as the longest distance between two points in each cluster. For example, the distance between clusters “r” and “s” to the left is equal to the length of the arrow between their two furthest points."
   ]
  },
  {
   "cell_type": "markdown",
   "metadata": {
    "slideshow": {
     "slide_type": "subslide"
    }
   },
   "source": [
    "![](../images/image06.png)"
   ]
  },
  {
   "cell_type": "markdown",
   "metadata": {
    "slideshow": {
     "slide_type": "subslide"
    }
   },
   "source": [
    "### Average Linkage\n",
    "***\n",
    "In average linkage hierarchical clustering, the distance between two clusters is defined as the average distance between each point in one cluster to every point in the other cluster. For example, the distance between clusters “r” and “s” to the left is equal to the average length of each arrow between connecting the points of one cluster to the other."
   ]
  },
  {
   "cell_type": "markdown",
   "metadata": {
    "slideshow": {
     "slide_type": "subslide"
    }
   },
   "source": [
    "![](../images/image07.png)"
   ]
  },
  {
   "cell_type": "markdown",
   "metadata": {
    "slideshow": {
     "slide_type": "subslide"
    }
   },
   "source": [
    "`Scipy` has a really convenient api for carrying out hierarchical clustering. Let's see how it works. We start with necessary imports"
   ]
  },
  {
   "cell_type": "code",
   "execution_count": 23,
   "metadata": {
    "slideshow": {
     "slide_type": "subslide"
    }
   },
   "outputs": [],
   "source": [
    "# needed imports\n",
    "from scipy.cluster.hierarchy import dendrogram, linkage"
   ]
  },
  {
   "cell_type": "code",
   "execution_count": 24,
   "metadata": {
    "slideshow": {
     "slide_type": "subslide"
    }
   },
   "outputs": [],
   "source": [
    "# generate the linkage matrix\n",
    "Z = linkage(X, 'average')"
   ]
  },
  {
   "cell_type": "code",
   "execution_count": 25,
   "metadata": {
    "slideshow": {
     "slide_type": "subslide"
    }
   },
   "outputs": [
    {
     "data": {
      "image/png": "[encoded data removed]",
      "text/plain": [
       "<Figure size 1800x720 with 1 Axes>"
      ]
     },
     "metadata": {},
     "output_type": "display_data"
    }
   ],
   "source": [
    "# calculate full dendrogram\n",
    "plt.figure(figsize=(25, 10))\n",
    "plt.title('Hierarchical Clustering Dendrogram')\n",
    "plt.xlabel('sample index')\n",
    "plt.ylabel('distance')\n",
    "dendrogram(\n",
    "    Z,\n",
    "    leaf_rotation=90.,  # rotates the x axis labels\n",
    "    leaf_font_size=8.,  # font size for the x axis labels\n",
    ")\n",
    "plt.show()"
   ]
  },
  {
   "cell_type": "code",
   "execution_count": null,
   "metadata": {
    "slideshow": {
     "slide_type": "subslide"
    }
   },
   "outputs": [],
   "source": [
    "# calculate full dendrogram\n",
    "Z2 = linkage(X2, 'average')\n",
    "plt.figure(figsize=(25, 10))\n",
    "plt.title('Hierarchical Clustering Dendrogram')\n",
    "plt.xlabel('sample index')\n",
    "plt.ylabel('distance')\n",
    "dendrogram( Z2, \n",
    "           leaf_rotation=90.,  # rotates the x axis labels\n",
    "           leaf_font_size=8.\n",
    "           )\n",
    "plt.show()"
   ]
  },
  {
   "cell_type": "markdown",
   "metadata": {
    "slideshow": {
     "slide_type": "subslide"
    }
   },
   "source": [
    "### Single vs Complete vs Average Linkage:\n",
    "***\n",
    "* A concern of using single\n",
    "linkage is that it can sometimes produce chaining\n",
    "amongst the clusters. This means that several clusters\n",
    "may be joined together simply because one of their\n",
    "cases is within close proximity of case from a separate\n",
    "cluster. This problem is specific to single linkage due to\n",
    "the fact that the smallest distance between pairs is the\n",
    "only value taken into consideration. Because the steps\n",
    "in agglomerative hierarchical clustering are\n",
    "irreversible, this chaining effect can have disastrous\n",
    "effects on the cluster solution. \n",
    "* In\n",
    "complete linkage, outlying cases prevent close clusters\n",
    "to merge together because the measure of the furthest\n",
    "neighbour exacerbates the effects of outlying data.\n",
    "* Average Linkage is supposed to represent a\n",
    "natural compromise between the linkage measures to\n",
    "provide a more accurate evaluation of the distance\n",
    "between clusters. "
   ]
  },
  {
   "cell_type": "markdown",
   "metadata": {
    "slideshow": {
     "slide_type": "slide"
    }
   },
   "source": [
    "## Shortcomings\n",
    "***\n",
    "One of the biggest drawbacks of hierarchical clustering is it is extremely calculation heavy. Hence they are not scalable. That also means that they are not very useful for larger datasets."
   ]
  },
  {
   "cell_type": "markdown",
   "metadata": {
    "slideshow": {
     "slide_type": "slide"
    }
   },
   "source": [
    "## Flat vs Hierarchical Clustering\n",
    "***\n",
    "* Flat clustering produces a single partitioning\n",
    "* Hierarchical Clustering can give different partitions depending on the level-of-resolution we are looking at\n",
    "\n",
    "\n",
    "* Flat clustering needs the number of clusters to be specified\n",
    "* Hierarchical clustering doesn’t need the number of clusters to be specified\n",
    "\n",
    "\n",
    "* Flat clustering is usually more efficient run-time wise\n",
    "* Hierarchical clustering can be slow (has to make several merge/split decisions)\n",
    "\n",
    "\n",
    "However, there is no clear consensus on which of the two produces better clustering"
   ]
  },
  {
   "cell_type": "markdown",
   "metadata": {
    "slideshow": {
     "slide_type": "slide"
    }
   },
   "source": [
    "<img src=\"../images/Recap.png\" alt=\"Recap\" style=\"width: 100px;float:left; margin-right:15px\"/>\n",
    "<br />\n",
    "\n",
    "# In-session Recap Time\n",
    "***\n",
    "\n",
    "* Applications of Unsupervised Learning\n",
    "* Clustering\n",
    "* Types of Clustering\n",
    "* K-means Clustering\n",
    "* Shortcomings of K-means Clustering\n",
    "* Hierarchical Clustering"
   ]
  },
  {
   "cell_type": "code",
   "execution_count": null,
   "metadata": {},
   "outputs": [],
   "source": [
    "import pandas as pd\n",
    "\n",
    "df= pd.read_csv('../data/diabetes.csv')\n",
    "df.head()"
   ]
  },
  {
   "cell_type": "code",
   "execution_count": null,
   "metadata": {},
   "outputs": [],
   "source": []
  },
  {
   "cell_type": "code",
   "execution_count": null,
   "metadata": {},
   "outputs": [],
   "source": []
  },
  {
   "cell_type": "code",
   "execution_count": null,
   "metadata": {},
   "outputs": [],
   "source": []
  },
  {
   "cell_type": "markdown",
   "metadata": {},
   "source": [
    "<img src='../images/icon/ppt-icons.png' alt='Mini-Challenge' style=\"width: 100px;float:left; margin-right:15px\"/><br/>\n",
    "\n",
    "## Mini-Challenge - 1\n",
    "***\n",
    "Drop the diabetes column in the above dataset and store it in a variable called **y** and fit a `KMeans()` with `n_clusters=2`"
   ]
  },
  {
   "cell_type": "code",
   "execution_count": null,
   "metadata": {},
   "outputs": [],
   "source": []
  },
  {
   "cell_type": "markdown",
   "metadata": {},
   "source": [
    "<img src='../images/icon/ppt-icons.png' alt='Mini-Challenge' style=\"width: 100px;float:left; margin-right:15px\"/><br/>\n",
    "\n",
    "## Mini-Challenge - 2\n",
    "***\n",
    "Now that we have fitted our model find out the total number of samples that our model misclassified.<br/>\n",
    "For this compare the predicted and actual values and print out the length of the misclassifed samples. The predicted values can be obtained using the command `kmeans.labels_`"
   ]
  },
  {
   "cell_type": "code",
   "execution_count": null,
   "metadata": {},
   "outputs": [],
   "source": []
  },
  {
   "cell_type": "markdown",
   "metadata": {},
   "source": [
    "<img src='../images/icon/ppt-icons.png' alt='Mini-Challenge' style=\"width: 100px;float:left; margin-right:15px\"/><br/>\n",
    "\n",
    "## Mini-Challenge - 3\n",
    "***\n",
    "Plot a Customer Dendrogram for the entire dataset. Refer the notebook for more help."
   ]
  },
  {
   "cell_type": "code",
   "execution_count": null,
   "metadata": {},
   "outputs": [],
   "source": [
    "\n"
   ]
  },
  {
   "cell_type": "markdown",
   "metadata": {
    "slideshow": {
     "slide_type": "slide"
    }
   },
   "source": [
    "# Thank You\n",
    "***\n",
    "\n",
    "### Next Session: Time Series - A Primer\n",
    "For more queries - Reach out to academics@greyatom.com "
   ]
  },
  {
   "cell_type": "code",
   "execution_count": null,
   "metadata": {},
   "outputs": [],
   "source": []
  },
  {
   "cell_type": "code",
   "execution_count": null,
   "metadata": {},
   "outputs": [],
   "source": []
  },
  {
   "cell_type": "code",
   "execution_count": null,
   "metadata": {},
   "outputs": [],
   "source": []
  }
 ],
 "metadata": {
  "anaconda-cloud": {},
  "celltoolbar": "Slideshow",
  "kernelspec": {
   "display_name": "Python 3",
   "language": "python",
   "name": "python3"
  },
  "language_info": {
   "codemirror_mode": {
    "name": "ipython",
    "version": 3
   },
   "file_extension": ".py",
   "mimetype": "text/x-python",
   "name": "python",
   "nbconvert_exporter": "python",
   "pygments_lexer": "ipython3",
   "version": "3.6.5"
  },
  "widgets": {
   "state": {},
   "version": "1.1.2"
  }
 },
 "nbformat": 4,
 "nbformat_minor": 1
}
