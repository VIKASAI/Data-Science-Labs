{
 "cells": [
  {
   "cell_type": "code",
   "execution_count": 1,
   "metadata": {},
   "outputs": [],
   "source": [
    "import warnings\n",
    "warnings.filterwarnings('ignore')\n",
    "import numpy as np\n",
    "import pandas as pd\n",
    "from pandas import Series, DataFrame\n",
    "import seaborn as sns\n",
    "from sklearn.model_selection import train_test_split\n",
    "import matplotlib.pyplot as plt"
   ]
  },
  {
   "cell_type": "code",
   "execution_count": 2,
   "metadata": {},
   "outputs": [],
   "source": [
    "#import test and train file\n",
    "#test = pd.read_csv('vikas')\n",
    "train = pd.read_csv('Train_UWu5bXk.csv')"
   ]
  },
  {
   "cell_type": "code",
   "execution_count": 3,
   "metadata": {},
   "outputs": [],
   "source": [
    "train['Item_Visibility'] = train['Item_Visibility'].replace(0,np.mean(train['Item_Visibility']))\n",
    "train['Outlet_Establishment_Year'] = 2018 - train['Outlet_Establishment_Year']\n",
    "#train['Outlet_Size'].fillna('Small',inplace=True)\n",
    "#mylist = list(train.select_dtypes(include=['object']).columns)\n",
    "#dummies = pd.get_dummies(train[mylist], prefix= mylist)\n",
    "#train.drop(mylist, axis=1, inplace = True)\n",
    "#X = pd.concat([train,dummies], axis =1 )"
   ]
  },
  {
   "cell_type": "code",
   "execution_count": 4,
   "metadata": {},
   "outputs": [],
   "source": [
    "X = train.loc[:,['Item_MRP','Outlet_Establishment_Year','Item_Visibility']]"
   ]
  },
  {
   "cell_type": "code",
   "execution_count": 5,
   "metadata": {},
   "outputs": [
    {
     "data": {
      "text/plain": [
       "(8523, 12)"
      ]
     },
     "execution_count": 5,
     "metadata": {},
     "output_type": "execute_result"
    }
   ],
   "source": [
    "train.shape"
   ]
  },
  {
   "cell_type": "code",
   "execution_count": 6,
   "metadata": {},
   "outputs": [
    {
     "data": {
      "text/html": [
       "<div>\n",
       "<style scoped>\n",
       "    .dataframe tbody tr th:only-of-type {\n",
       "        vertical-align: middle;\n",
       "    }\n",
       "\n",
       "    .dataframe tbody tr th {\n",
       "        vertical-align: top;\n",
       "    }\n",
       "\n",
       "    .dataframe thead th {\n",
       "        text-align: right;\n",
       "    }\n",
       "</style>\n",
       "<table border=\"1\" class=\"dataframe\">\n",
       "  <thead>\n",
       "    <tr style=\"text-align: right;\">\n",
       "      <th></th>\n",
       "      <th>Item_Identifier</th>\n",
       "      <th>Item_Weight</th>\n",
       "      <th>Item_Fat_Content</th>\n",
       "      <th>Item_Visibility</th>\n",
       "      <th>Item_Type</th>\n",
       "      <th>Item_MRP</th>\n",
       "      <th>Outlet_Identifier</th>\n",
       "      <th>Outlet_Establishment_Year</th>\n",
       "      <th>Outlet_Size</th>\n",
       "      <th>Outlet_Location_Type</th>\n",
       "      <th>Outlet_Type</th>\n",
       "      <th>Item_Outlet_Sales</th>\n",
       "    </tr>\n",
       "  </thead>\n",
       "  <tbody>\n",
       "    <tr>\n",
       "      <th>0</th>\n",
       "      <td>FDA15</td>\n",
       "      <td>9.300</td>\n",
       "      <td>Low Fat</td>\n",
       "      <td>0.016047</td>\n",
       "      <td>Dairy</td>\n",
       "      <td>249.8092</td>\n",
       "      <td>OUT049</td>\n",
       "      <td>19</td>\n",
       "      <td>Medium</td>\n",
       "      <td>Tier 1</td>\n",
       "      <td>Supermarket Type1</td>\n",
       "      <td>3735.1380</td>\n",
       "    </tr>\n",
       "    <tr>\n",
       "      <th>1</th>\n",
       "      <td>DRC01</td>\n",
       "      <td>5.920</td>\n",
       "      <td>Regular</td>\n",
       "      <td>0.019278</td>\n",
       "      <td>Soft Drinks</td>\n",
       "      <td>48.2692</td>\n",
       "      <td>OUT018</td>\n",
       "      <td>9</td>\n",
       "      <td>Medium</td>\n",
       "      <td>Tier 3</td>\n",
       "      <td>Supermarket Type2</td>\n",
       "      <td>443.4228</td>\n",
       "    </tr>\n",
       "    <tr>\n",
       "      <th>2</th>\n",
       "      <td>FDN15</td>\n",
       "      <td>17.500</td>\n",
       "      <td>Low Fat</td>\n",
       "      <td>0.016760</td>\n",
       "      <td>Meat</td>\n",
       "      <td>141.6180</td>\n",
       "      <td>OUT049</td>\n",
       "      <td>19</td>\n",
       "      <td>Medium</td>\n",
       "      <td>Tier 1</td>\n",
       "      <td>Supermarket Type1</td>\n",
       "      <td>2097.2700</td>\n",
       "    </tr>\n",
       "    <tr>\n",
       "      <th>3</th>\n",
       "      <td>FDX07</td>\n",
       "      <td>19.200</td>\n",
       "      <td>Regular</td>\n",
       "      <td>0.066132</td>\n",
       "      <td>Fruits and Vegetables</td>\n",
       "      <td>182.0950</td>\n",
       "      <td>OUT010</td>\n",
       "      <td>20</td>\n",
       "      <td>NaN</td>\n",
       "      <td>Tier 3</td>\n",
       "      <td>Grocery Store</td>\n",
       "      <td>732.3800</td>\n",
       "    </tr>\n",
       "    <tr>\n",
       "      <th>4</th>\n",
       "      <td>NCD19</td>\n",
       "      <td>8.930</td>\n",
       "      <td>Low Fat</td>\n",
       "      <td>0.066132</td>\n",
       "      <td>Household</td>\n",
       "      <td>53.8614</td>\n",
       "      <td>OUT013</td>\n",
       "      <td>31</td>\n",
       "      <td>High</td>\n",
       "      <td>Tier 3</td>\n",
       "      <td>Supermarket Type1</td>\n",
       "      <td>994.7052</td>\n",
       "    </tr>\n",
       "    <tr>\n",
       "      <th>...</th>\n",
       "      <td>...</td>\n",
       "      <td>...</td>\n",
       "      <td>...</td>\n",
       "      <td>...</td>\n",
       "      <td>...</td>\n",
       "      <td>...</td>\n",
       "      <td>...</td>\n",
       "      <td>...</td>\n",
       "      <td>...</td>\n",
       "      <td>...</td>\n",
       "      <td>...</td>\n",
       "      <td>...</td>\n",
       "    </tr>\n",
       "    <tr>\n",
       "      <th>8518</th>\n",
       "      <td>FDF22</td>\n",
       "      <td>6.865</td>\n",
       "      <td>Low Fat</td>\n",
       "      <td>0.056783</td>\n",
       "      <td>Snack Foods</td>\n",
       "      <td>214.5218</td>\n",
       "      <td>OUT013</td>\n",
       "      <td>31</td>\n",
       "      <td>High</td>\n",
       "      <td>Tier 3</td>\n",
       "      <td>Supermarket Type1</td>\n",
       "      <td>2778.3834</td>\n",
       "    </tr>\n",
       "    <tr>\n",
       "      <th>8519</th>\n",
       "      <td>FDS36</td>\n",
       "      <td>8.380</td>\n",
       "      <td>Regular</td>\n",
       "      <td>0.046982</td>\n",
       "      <td>Baking Goods</td>\n",
       "      <td>108.1570</td>\n",
       "      <td>OUT045</td>\n",
       "      <td>16</td>\n",
       "      <td>NaN</td>\n",
       "      <td>Tier 2</td>\n",
       "      <td>Supermarket Type1</td>\n",
       "      <td>549.2850</td>\n",
       "    </tr>\n",
       "    <tr>\n",
       "      <th>8520</th>\n",
       "      <td>NCJ29</td>\n",
       "      <td>10.600</td>\n",
       "      <td>Low Fat</td>\n",
       "      <td>0.035186</td>\n",
       "      <td>Health and Hygiene</td>\n",
       "      <td>85.1224</td>\n",
       "      <td>OUT035</td>\n",
       "      <td>14</td>\n",
       "      <td>Small</td>\n",
       "      <td>Tier 2</td>\n",
       "      <td>Supermarket Type1</td>\n",
       "      <td>1193.1136</td>\n",
       "    </tr>\n",
       "    <tr>\n",
       "      <th>8521</th>\n",
       "      <td>FDN46</td>\n",
       "      <td>7.210</td>\n",
       "      <td>Regular</td>\n",
       "      <td>0.145221</td>\n",
       "      <td>Snack Foods</td>\n",
       "      <td>103.1332</td>\n",
       "      <td>OUT018</td>\n",
       "      <td>9</td>\n",
       "      <td>Medium</td>\n",
       "      <td>Tier 3</td>\n",
       "      <td>Supermarket Type2</td>\n",
       "      <td>1845.5976</td>\n",
       "    </tr>\n",
       "    <tr>\n",
       "      <th>8522</th>\n",
       "      <td>DRG01</td>\n",
       "      <td>14.800</td>\n",
       "      <td>Low Fat</td>\n",
       "      <td>0.044878</td>\n",
       "      <td>Soft Drinks</td>\n",
       "      <td>75.4670</td>\n",
       "      <td>OUT046</td>\n",
       "      <td>21</td>\n",
       "      <td>Small</td>\n",
       "      <td>Tier 1</td>\n",
       "      <td>Supermarket Type1</td>\n",
       "      <td>765.6700</td>\n",
       "    </tr>\n",
       "  </tbody>\n",
       "</table>\n",
       "<p>8523 rows × 12 columns</p>\n",
       "</div>"
      ],
      "text/plain": [
       "     Item_Identifier  Item_Weight Item_Fat_Content  Item_Visibility  \\\n",
       "0              FDA15        9.300          Low Fat         0.016047   \n",
       "1              DRC01        5.920          Regular         0.019278   \n",
       "2              FDN15       17.500          Low Fat         0.016760   \n",
       "3              FDX07       19.200          Regular         0.066132   \n",
       "4              NCD19        8.930          Low Fat         0.066132   \n",
       "...              ...          ...              ...              ...   \n",
       "8518           FDF22        6.865          Low Fat         0.056783   \n",
       "8519           FDS36        8.380          Regular         0.046982   \n",
       "8520           NCJ29       10.600          Low Fat         0.035186   \n",
       "8521           FDN46        7.210          Regular         0.145221   \n",
       "8522           DRG01       14.800          Low Fat         0.044878   \n",
       "\n",
       "                  Item_Type  Item_MRP Outlet_Identifier  \\\n",
       "0                     Dairy  249.8092            OUT049   \n",
       "1               Soft Drinks   48.2692            OUT018   \n",
       "2                      Meat  141.6180            OUT049   \n",
       "3     Fruits and Vegetables  182.0950            OUT010   \n",
       "4                 Household   53.8614            OUT013   \n",
       "...                     ...       ...               ...   \n",
       "8518            Snack Foods  214.5218            OUT013   \n",
       "8519           Baking Goods  108.1570            OUT045   \n",
       "8520     Health and Hygiene   85.1224            OUT035   \n",
       "8521            Snack Foods  103.1332            OUT018   \n",
       "8522            Soft Drinks   75.4670            OUT046   \n",
       "\n",
       "      Outlet_Establishment_Year Outlet_Size Outlet_Location_Type  \\\n",
       "0                            19      Medium               Tier 1   \n",
       "1                             9      Medium               Tier 3   \n",
       "2                            19      Medium               Tier 1   \n",
       "3                            20         NaN               Tier 3   \n",
       "4                            31        High               Tier 3   \n",
       "...                         ...         ...                  ...   \n",
       "8518                         31        High               Tier 3   \n",
       "8519                         16         NaN               Tier 2   \n",
       "8520                         14       Small               Tier 2   \n",
       "8521                          9      Medium               Tier 3   \n",
       "8522                         21       Small               Tier 1   \n",
       "\n",
       "            Outlet_Type  Item_Outlet_Sales  \n",
       "0     Supermarket Type1          3735.1380  \n",
       "1     Supermarket Type2           443.4228  \n",
       "2     Supermarket Type1          2097.2700  \n",
       "3         Grocery Store           732.3800  \n",
       "4     Supermarket Type1           994.7052  \n",
       "...                 ...                ...  \n",
       "8518  Supermarket Type1          2778.3834  \n",
       "8519  Supermarket Type1           549.2850  \n",
       "8520  Supermarket Type1          1193.1136  \n",
       "8521  Supermarket Type2          1845.5976  \n",
       "8522  Supermarket Type1           765.6700  \n",
       "\n",
       "[8523 rows x 12 columns]"
      ]
     },
     "execution_count": 6,
     "metadata": {},
     "output_type": "execute_result"
    }
   ],
   "source": [
    "#train_vis = train.head(200)\n",
    "train_vis = train\n",
    "train_vis"
   ]
  },
  {
   "cell_type": "code",
   "execution_count": 7,
   "metadata": {},
   "outputs": [
    {
     "data": {
      "image/png": "[encoded data removed]",
      "text/plain": [
       "<Figure size 432x432 with 3 Axes>"
      ]
     },
     "metadata": {
      "needs_background": "light"
     },
     "output_type": "display_data"
    }
   ],
   "source": [
    "sns.jointplot(x=train_vis['Item_MRP'], y=train_vis['Item_Outlet_Sales'], data=train_vis, kind='reg');"
   ]
  },
  {
   "cell_type": "code",
   "execution_count": 8,
   "metadata": {},
   "outputs": [],
   "source": [
    "x_train, x_test, y_train, y_test = train_test_split(X,train.Item_Outlet_Sales, test_size=0.2, random_state=12)\n",
    "#x_train"
   ]
  },
  {
   "cell_type": "code",
   "execution_count": 9,
   "metadata": {},
   "outputs": [],
   "source": [
    "y_train = pd.DataFrame(y_train, columns=['Item_Outlet_Sales'])\n",
    "y_train = np.reshape(y_train, (-1,1))\n",
    "y_test = pd.DataFrame(y_test, columns=['Item_Outlet_Sales'])\n",
    "y_test = np.reshape(y_test, (-1,1))\n"
   ]
  },
  {
   "cell_type": "code",
   "execution_count": 10,
   "metadata": {},
   "outputs": [],
   "source": [
    "# x_train = np.reshape(x_train, (-1,1))\n",
    "# y_train = np.reshape(y_train, (-1,1))\n",
    "# #x_train"
   ]
  },
  {
   "cell_type": "code",
   "execution_count": 11,
   "metadata": {},
   "outputs": [],
   "source": [
    "def theta_calc(x_train, y_train):\n",
    "    #Initializing all variables\n",
    "    n_data = x_train.shape[0]\n",
    "    bias = np.ones((n_data,1))\n",
    "    x_train_b = np.append(bias, x_train, axis=1)\n",
    "    #\n",
    "    theta_1 = np.linalg.inv(np.dot(x_train_b.T,x_train_b))\n",
    "    theta_2 = np.dot(theta_1, x_train_b.T)\n",
    "    theta = np.dot(theta_2,y_train)\n",
    "    #\n",
    "    return theta"
   ]
  },
  {
   "cell_type": "code",
   "execution_count": 12,
   "metadata": {},
   "outputs": [],
   "source": [
    "def predict_func(slope,intercept,x_test):\n",
    "    #\n",
    "    #pred = []\n",
    "    #n_data = x_test.shape[0]\n",
    "    #x_test.values.tolist()\n",
    "    #for i in range(n_data):\n",
    "    #    pred.append(((slope * x_test[i]) + intercept).tolist)\n",
    "    #temp = np.dot(slope, x_test.T)\n",
    "    pred = ((np.dot(x_test, slope)) + intercept)\n",
    "        \n",
    "    return pred"
   ]
  },
  {
   "cell_type": "code",
   "execution_count": 13,
   "metadata": {},
   "outputs": [],
   "source": [
    "def mse_calc(prediction, y_test):\n",
    "    #\n",
    "    #total_data = len(prediction)\n",
    "    #error = 0\n",
    "    error = np.mean((prediction - y_test)**2)\n",
    "    return error"
   ]
  },
  {
   "cell_type": "code",
   "execution_count": 14,
   "metadata": {},
   "outputs": [],
   "source": [
    "def rsq(prediction, y_test):\n",
    "    #\n",
    "    #total_data = len(prediction)\n",
    "    #Average of total prediction \n",
    "    y_avg = np.mean(y_test)\n",
    "    #total sum of square error\n",
    "    tot_err = np.sum((y_test-y_avg)**2)\n",
    "    #total sum of squared error of residuals\n",
    "    res_err = np.sum((y_test-prediction)**2)\n",
    "    #\n",
    "    r2 = 1 - (res_err / tot_err)\n",
    "    return r2"
   ]
  },
  {
   "cell_type": "code",
   "execution_count": 15,
   "metadata": {},
   "outputs": [
    {
     "name": "stdout",
     "output_type": "stream",
     "text": [
      "Intercept of the model [107.94096452]\n",
      "Slope of the model [[   15.42127913]\n",
      " [   11.98516145]\n",
      " [-4931.77786663]]\n"
     ]
    }
   ],
   "source": [
    "#Finding optimal theta value using normal equations\n",
    "theta = theta_calc(x_train, y_train)\n",
    "intercept = theta[0]\n",
    "slope = theta[1:]\n",
    "print('Intercept of the model', intercept)\n",
    "print('Slope of the model', slope)\n"
   ]
  },
  {
   "cell_type": "code",
   "execution_count": 16,
   "metadata": {},
   "outputs": [],
   "source": [
    "# x_test = np.reshape(x_cv, (-1,1))\n",
    "# y_test = np.reshape(y_cv, (-1,1))\n",
    "# (np.dot(slope, x_cv.T)) + intercept\n"
   ]
  },
  {
   "cell_type": "code",
   "execution_count": 17,
   "metadata": {},
   "outputs": [
    {
     "name": "stdout",
     "output_type": "stream",
     "text": [
      "Mean squared error of the model Item_Outlet_Sales    1.904820e+06\n",
      "dtype: float64\n",
      "R squared value Item_Outlet_Sales    0.34888\n",
      "dtype: float64\n"
     ]
    }
   ],
   "source": [
    "#Prediction calculation\n",
    "prediction = predict_func(slope, intercept, x_test)\n",
    "#MSE calculation\n",
    "error =  mse_calc(prediction, y_test)\n",
    "print('Mean squared error of the model', error)\n",
    "#R-square calculation\n",
    "r2_val = rsq(prediction, y_test)\n",
    "print('R squared value', r2_val)"
   ]
  },
  {
   "cell_type": "code",
   "execution_count": 18,
   "metadata": {},
   "outputs": [],
   "source": [
    "#gradient descent \n",
    "def grad_descent(s_theta, l_rate, tolerance, iter_val, x_train, y_train):\n",
    "    \n",
    "    n_data = len(x_train)\n",
    "    bias = np.ones((n_data,1))\n",
    "    s_intercept = s_theta[0]\n",
    "    s_slope = s_theta[1:]\n",
    "    prediction = predict_func(s_slope, s_intercept, x_train)\n",
    "    error =  mse_calc(prediction, y_train)\n",
    "    x_train_b = np.append(bias, x_train, axis = 1) \n",
    "    \n",
    "    for i in range(iter_val):\n",
    "        #int_theta = [0 for i in range(len(x_train[0]) + 1)]\n",
    "        #int_intercept = 0\n",
    "        n_pt = float(len(x_train))\n",
    "        \n",
    "        prediction = predict_func(s_slope, s_intercept, x_train)\n",
    "        #prev_error = error\n",
    "        #for i in range(len(x_train)):\n",
    "        \n",
    "        #int_intercept = 2 / n_pt * np.dot(bias.T, (prediction - y_train))\n",
    "        #int_slope = 2 / n_pt * np.dot(x_train.T, (prediction - y_train))\n",
    "        \n",
    "        int_theta = 2 / n_pt * np.dot(x_train_b.T, (prediction - y_train))\n",
    "            \n",
    "        #final_slope = s_slope - (l_rate * int_slope)\n",
    "        #final_intercept = s_intercept - (l_rate * int_intercept)\n",
    "        #s_slope = final_slope\n",
    "        #s_intercept = final_intercept\n",
    "        \n",
    "        s_theta -=  l_rate * int_theta\n",
    "        \n",
    "        #prediction = predict_func(s_slope, s_intercept, x_train)\n",
    "        #error = mse_calc(prediction, y_train)\n",
    "        \n",
    "        #if ((prev_error - error) / prev_error) <= tolerance:\n",
    "        #    break\n",
    "        \n",
    "    s_intercept = s_theta[0]\n",
    "    s_slope = s_theta[1:]\n",
    "    prediction = predict_func(s_slope, s_intercept, x_train)\n",
    "    final_error = mse_calc(prediction, y_train)\n",
    "        \n",
    "    return  s_theta, final_error"
   ]
  },
  {
   "cell_type": "code",
   "execution_count": 19,
   "metadata": {},
   "outputs": [],
   "source": [
    "#defining slope and intercept value as 0 \n",
    "learning_rate = 0.00001\n",
    "start_theta = np.zeros((x_train.shape[1] + 1,1))\n",
    "#start_intercept = 0\n",
    "max_iteration = 500\n",
    "tolerance = 0.01\n"
   ]
  },
  {
   "cell_type": "code",
   "execution_count": 20,
   "metadata": {},
   "outputs": [],
   "source": [
    "# prediction = predict_func(start_slope, start_intercept, x_train)\n",
    "# prediction\n",
    "# y_train = np.reshape(y_train, (-1,1))\n",
    "# error =  mse_calc(prediction, y_train)\n",
    "# error"
   ]
  },
  {
   "cell_type": "code",
   "execution_count": 21,
   "metadata": {},
   "outputs": [
    {
     "name": "stdout",
     "output_type": "stream",
     "text": [
      "Slope of the model [[14.94147225]\n",
      " [ 4.21579033]\n",
      " [-0.1147019 ]]\n",
      "Intercept of the model [-0.01714865]\n",
      "Error value of the model Item_Outlet_Sales    1.952803e+06\n",
      "dtype: float64\n",
      "R squared value Item_Outlet_Sales    0.332477\n",
      "dtype: float64\n"
     ]
    }
   ],
   "source": [
    "#intial run\n",
    "grad_theta, grad_error = grad_descent(start_theta, learning_rate, tolerance, max_iteration, x_train, y_train)\n",
    "grad_intercept = grad_theta[0]\n",
    "grad_slope = grad_theta[1:]\n",
    "prediction = predict_func(grad_slope, grad_intercept, x_test)\n",
    "final_e_value = mse_calc(prediction, y_test)\n",
    "#\n",
    "print('Slope of the model', grad_slope)\n",
    "print('Intercept of the model', grad_intercept)\n",
    "print('Error value of the model', final_e_value)\n",
    "r2_val = rsq(prediction, y_test)\n",
    "print('R squared value', r2_val)\n",
    "#Graph\n",
    "# plt.scatter(x_test, y_test)\n",
    "# plt.plot(x_test, prediction, color='blue', linewidth = 3)\n",
    "# plt.xlabel(\"Input\")\n",
    "# plt.ylabel(\"Output\")\n",
    "# plt.show()"
   ]
  },
  {
   "cell_type": "code",
   "execution_count": 22,
   "metadata": {},
   "outputs": [
    {
     "data": {
      "text/plain": [
       "Item_Outlet_Sales    1.904820e+06\n",
       "dtype: float64"
      ]
     },
     "execution_count": 22,
     "metadata": {},
     "output_type": "execute_result"
    }
   ],
   "source": [
    "from sklearn.linear_model import LinearRegression\n",
    "lreg = LinearRegression()\n",
    "lreg.fit(x_train,y_train)\n",
    "pred = lreg.predict(x_test)\n",
    "mse = np.mean((pred - y_test)**2)\n",
    "mse"
   ]
  },
  {
   "cell_type": "code",
   "execution_count": 23,
   "metadata": {},
   "outputs": [
    {
     "data": {
      "text/plain": [
       "array([107.94096452])"
      ]
     },
     "execution_count": 23,
     "metadata": {},
     "output_type": "execute_result"
    }
   ],
   "source": [
    "lreg.intercept_"
   ]
  },
  {
   "cell_type": "code",
   "execution_count": 24,
   "metadata": {},
   "outputs": [
    {
     "data": {
      "text/plain": [
       "array([[   15.42127913,    11.98516145, -4931.77786663]])"
      ]
     },
     "execution_count": 24,
     "metadata": {},
     "output_type": "execute_result"
    }
   ],
   "source": [
    "lreg.coef_"
   ]
  }
 ],
 "metadata": {
  "kernelspec": {
   "display_name": "Python 3",
   "language": "python",
   "name": "python3"
  },
  "language_info": {
   "codemirror_mode": {
    "name": "ipython",
    "version": 3
   },
   "file_extension": ".py",
   "mimetype": "text/x-python",
   "name": "python",
   "nbconvert_exporter": "python",
   "pygments_lexer": "ipython3",
   "version": "3.7.6"
  }
 },
 "nbformat": 4,
 "nbformat_minor": 2
}
