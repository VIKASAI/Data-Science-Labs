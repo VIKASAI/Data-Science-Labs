{
 "cells": [
  {
   "cell_type": "code",
   "execution_count": 11,
   "metadata": {},
   "outputs": [],
   "source": [
    "import numpy as np\n",
    "import pandas as pd\n",
    "import matplotlib.pyplot as plt"
   ]
  },
  {
   "cell_type": "code",
   "execution_count": 12,
   "metadata": {},
   "outputs": [],
   "source": [
    "def predict_func(slope,intercept,x_test):\n",
    "    #\n",
    "    #pred = []\n",
    "    #n_data = x_test.shape[0]\n",
    "    #x_test.values.tolist()\n",
    "    #for i in range(n_data):\n",
    "    #    pred.append(((slope * x_test[i]) + intercept).tolist)\n",
    "    #temp = np.dot(slope, x_test.T)\n",
    "    pred = ((np.dot(x_test, slope)) + intercept)\n",
    "        \n",
    "    return pred"
   ]
  },
  {
   "cell_type": "code",
   "execution_count": 13,
   "metadata": {},
   "outputs": [],
   "source": [
    "def mse_calc(prediction, y_test):\n",
    "    #\n",
    "    #total_data = len(prediction)\n",
    "    #error = 0\n",
    "    error = np.mean((prediction - y_test)**2)\n",
    "    return error"
   ]
  },
  {
   "cell_type": "code",
   "execution_count": 74,
   "metadata": {},
   "outputs": [],
   "source": [
    "#gradient descent \n",
    "def grad_descent(s_theta, l_rate, tolerance, iter_val, x_train, y_train):\n",
    "    \n",
    "    n_data = len(x_train)\n",
    "    bias = np.ones((n_data,1))\n",
    "    s_intercept = s_theta[0]\n",
    "    s_slope = s_theta[1:]\n",
    "    prediction = predict_func(s_slope, s_intercept, x_train)\n",
    "    error =  mse_calc(prediction, y_train)\n",
    "    x_train_b = np.append(bias, x_train, axis = 1) \n",
    "    \n",
    "    for i in range(iter_val):\n",
    "        int_theta = [0 for i in range(len(x_train[0]) + 1)]\n",
    "        #int_intercept = 0\n",
    "        n_pt = float(len(x_train))\n",
    "        \n",
    "        prediction = predict_func(s_slope, s_intercept, x_train)\n",
    "        #prev_error = error\n",
    "        #for i in range(len(x_train)):\n",
    "        \n",
    "        #int_intercept = 2 / n_pt * np.dot(bias.T, (prediction - y_train))\n",
    "        #int_slope = 2 / n_pt * np.dot(x_train.T, (prediction - y_train))\n",
    "        \n",
    "        int_theta = 2 / n_pt * np.dot(x_train_b.T, (prediction - y_train))\n",
    "            \n",
    "        #final_slope = s_slope - (l_rate * int_slope)\n",
    "        #final_intercept = s_intercept - (l_rate * int_intercept)\n",
    "        #s_slope = final_slope\n",
    "        #s_intercept = final_intercept\n",
    "        \n",
    "        s_theta -=  l_rate * int_theta\n",
    "        \n",
    "        #prediction = predict_func(s_slope, s_intercept, x_train)\n",
    "        #error = mse_calc(prediction, y_train)\n",
    "        \n",
    "        #if ((prev_error - error) / prev_error) <= tolerance:\n",
    "        #    break\n",
    "        \n",
    "    s_intercept = s_theta[0]\n",
    "    s_slope = s_theta[1:]\n",
    "    prediction = predict_func(s_slope, s_intercept, x_train)\n",
    "    final_error = mse_calc(prediction, y_train)\n",
    "        \n",
    "    return  s_theta, final_error"
   ]
  },
  {
   "cell_type": "code",
   "execution_count": 68,
   "metadata": {},
   "outputs": [],
   "source": [
    "X = 2 * np.random.rand(100,1)\n",
    "y = 4 +3 * X+np.random.randn(100,1)\n",
    "#X"
   ]
  },
  {
   "cell_type": "code",
   "execution_count": 80,
   "metadata": {},
   "outputs": [],
   "source": [
    "theta = np.zeros((len(X[0]) + 1, 1))\n",
    "tolerance = 0.0001\n",
    "l_rate = 0.01\n",
    "iterations = 5000"
   ]
  },
  {
   "cell_type": "code",
   "execution_count": 70,
   "metadata": {},
   "outputs": [
    {
     "data": {
      "text/plain": [
       "array([[0.],\n",
       "       [0.]])"
      ]
     },
     "execution_count": 70,
     "metadata": {},
     "output_type": "execute_result"
    }
   ],
   "source": [
    "theta"
   ]
  },
  {
   "cell_type": "code",
   "execution_count": 81,
   "metadata": {},
   "outputs": [
    {
     "data": {
      "text/plain": [
       "(array([[4.38040604],\n",
       "        [2.81865669]]), 0.866918420575087)"
      ]
     },
     "execution_count": 81,
     "metadata": {},
     "output_type": "execute_result"
    }
   ],
   "source": [
    "grad_theta, grad_error = grad_descent(theta, l_rate, tolerance, iterations, X, y)\n",
    "grad_theta, grad_error"
   ]
  },
  {
   "cell_type": "code",
   "execution_count": 20,
   "metadata": {},
   "outputs": [],
   "source": [
    "n_data = len(X)\n",
    "bias = np.ones((n_data,1))\n",
    "\n",
    "x_train_b = np.append(bias, X, axis = 1)\n",
    "#x_train_b"
   ]
  },
  {
   "cell_type": "code",
   "execution_count": 47,
   "metadata": {},
   "outputs": [
    {
     "data": {
      "text/plain": [
       "array([[ -8.83630374,  -3.63405248, -10.22570138,  -8.75729558,\n",
       "         -9.85226986,  -7.28038454,  -8.54638354,  -8.9887819 ,\n",
       "         -7.54334253,  -9.09048506,  -8.3627991 ,  -2.47483063,\n",
       "         -6.66062055,  -4.39214638,  -6.03221534,  -6.35542891,\n",
       "         -7.17256266,  -3.55248353,  -6.99527294,  -6.38689807,\n",
       "        -10.75477183, -10.6347153 ,  -5.35798861,  -8.8929445 ,\n",
       "         -7.20192741,  -8.94667965,  -6.62921551,  -5.75686193,\n",
       "         -6.58769131,  -8.34900975,  -7.99573946,  -7.02021323,\n",
       "         -9.04426976,  -6.65693185,  -8.6755276 ,  -7.70150128,\n",
       "         -6.01857165,  -9.44062046,  -5.51894934,  -5.26749896,\n",
       "        -11.58526811,  -9.78981655,  -5.39474342,  -5.06138591,\n",
       "         -6.62879787,  -3.22834359,  -5.57427772,  -5.90337644,\n",
       "         -7.82271479,  -7.36335519,  -4.41780815,  -5.81975566,\n",
       "        -10.4919924 ,  -8.93794298,  -8.23125898,  -7.11622569,\n",
       "         -6.35258369,  -6.03539212,  -7.09943615,  -7.17234369,\n",
       "         -5.47487556,  -9.29471984,  -9.61829635,  -9.00257772,\n",
       "         -4.27701176,  -6.19617209,  -4.27057615,  -9.3029477 ,\n",
       "         -9.01660214,  -5.39596346,  -7.79432674, -10.20023093,\n",
       "         -7.72874265,  -3.27310564,  -5.67574403,  -7.13856637,\n",
       "         -4.53329621,  -8.12814924,  -9.58814485,  -9.76680653,\n",
       "         -7.47385162,  -4.97860704,  -6.26244656,  -5.91209011,\n",
       "         -5.71295437,  -6.38342947,  -8.67384739,  -8.79122262,\n",
       "         -7.58556622,  -7.70075783,  -9.37249538,  -9.53640306,\n",
       "         -6.84854895,  -5.84345096,  -8.58570643,  -5.77465797,\n",
       "         -7.08513332,  -4.80179405,  -3.80918726,  -6.88449217]])"
      ]
     },
     "execution_count": 47,
     "metadata": {},
     "output_type": "execute_result"
    }
   ],
   "source": [
    "prediction = predict_func(theta[1:], theta[0], X)\n",
    "#prediction\n",
    "(prediction - y).T\n"
   ]
  },
  {
   "cell_type": "code",
   "execution_count": 50,
   "metadata": {},
   "outputs": [
    {
     "data": {
      "text/plain": [
       "array([[0.00358656],\n",
       "       [0.00428602]])"
      ]
     },
     "execution_count": 50,
     "metadata": {},
     "output_type": "execute_result"
    }
   ],
   "source": [
    "int_theta = 1 / (2*n_data) * np.dot(x_train_b.T, (prediction - y))\n",
    "int_theta * l_rate\n",
    "theta - int_theta * l_rate"
   ]
  }
 ],
 "metadata": {
  "kernelspec": {
   "display_name": "Python 3",
   "language": "python",
   "name": "python3"
  },
  "language_info": {
   "codemirror_mode": {
    "name": "ipython",
    "version": 3
   },
   "file_extension": ".py",
   "mimetype": "text/x-python",
   "name": "python",
   "nbconvert_exporter": "python",
   "pygments_lexer": "ipython3",
   "version": "3.6.5"
  }
 },
 "nbformat": 4,
 "nbformat_minor": 2
}
