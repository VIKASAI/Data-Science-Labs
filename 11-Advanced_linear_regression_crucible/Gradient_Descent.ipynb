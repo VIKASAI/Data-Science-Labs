{
 "cells": [
  {
   "cell_type": "code",
   "execution_count": 1,
   "metadata": {},
   "outputs": [],
   "source": [
    "import numpy as np\n",
    "import pandas as pd\n",
    "import matplotlib.pyplot as plt"
   ]
  },
  {
   "cell_type": "code",
   "execution_count": 2,
   "metadata": {},
   "outputs": [],
   "source": [
    "def predict_func(slope,intercept,x_test):\n",
    "    #\n",
    "    #pred = []\n",
    "    #n_data = x_test.shape[0]\n",
    "    #x_test.values.tolist()\n",
    "    #for i in range(n_data):\n",
    "    #    pred.append(((slope * x_test[i]) + intercept).tolist)\n",
    "    #temp = np.dot(slope, x_test.T)\n",
    "    pred = ((np.dot(x_test, slope)) + intercept)\n",
    "        \n",
    "    return pred"
   ]
  },
  {
   "cell_type": "code",
   "execution_count": 3,
   "metadata": {},
   "outputs": [],
   "source": [
    "def mse_calc(prediction, y_test):\n",
    "    #\n",
    "    #total_data = len(prediction)\n",
    "    #error = 0\n",
    "    error = np.mean((prediction - y_test)**2)\n",
    "    return error"
   ]
  },
  {
   "cell_type": "code",
   "execution_count": 4,
   "metadata": {},
   "outputs": [],
   "source": [
    "#gradient descent \n",
    "def grad_descent(s_theta, l_rate, tolerance, iter_val, x_train, y_train):\n",
    "    \n",
    "    n_data = len(x_train)\n",
    "    bias = np.ones((n_data,1))\n",
    "    s_intercept = s_theta[0]\n",
    "    s_slope = s_theta[1:]\n",
    "    prediction = predict_func(s_slope, s_intercept, x_train)\n",
    "    error =  mse_calc(prediction, y_train)\n",
    "    x_train_b = np.append(bias, x_train, axis = 1) \n",
    "    \n",
    "    for i in range(iter_val):\n",
    "        int_theta = [0 for i in range(len(x_train[0]) + 1)]\n",
    "        #int_intercept = 0\n",
    "        n_pt = float(len(x_train))\n",
    "        \n",
    "        prediction = predict_func(s_slope, s_intercept, x_train)\n",
    "        #prev_error = error\n",
    "        #for i in range(len(x_train)):\n",
    "        \n",
    "        #int_intercept = 2 / n_pt * np.dot(bias.T, (prediction - y_train))\n",
    "        #int_slope = 2 / n_pt * np.dot(x_train.T, (prediction - y_train))\n",
    "        \n",
    "        int_theta = 2 / n_pt * np.dot(x_train_b.T, (prediction - y_train))\n",
    "            \n",
    "        #final_slope = s_slope - (l_rate * int_slope)\n",
    "        #final_intercept = s_intercept - (l_rate * int_intercept)\n",
    "        #s_slope = final_slope\n",
    "        #s_intercept = final_intercept\n",
    "        \n",
    "        s_theta -=  l_rate * int_theta\n",
    "        \n",
    "        #prediction = predict_func(s_slope, s_intercept, x_train)\n",
    "        #error = mse_calc(prediction, y_train)\n",
    "        \n",
    "        #if ((prev_error - error) / prev_error) <= tolerance:\n",
    "        #    break\n",
    "        \n",
    "    s_intercept = s_theta[0]\n",
    "    s_slope = s_theta[1:]\n",
    "    prediction = predict_func(s_slope, s_intercept, x_train)\n",
    "    final_error = mse_calc(prediction, y_train)\n",
    "        \n",
    "    return  s_theta, final_error"
   ]
  },
  {
   "cell_type": "code",
   "execution_count": 5,
   "metadata": {},
   "outputs": [],
   "source": [
    "X = 2 * np.random.rand(100,1)\n",
    "y = 4 +3 * X+np.random.randn(100,1)\n",
    "#X"
   ]
  },
  {
   "cell_type": "code",
   "execution_count": 6,
   "metadata": {},
   "outputs": [],
   "source": [
    "theta = np.zeros((len(X[0]) + 1, 1))\n",
    "tolerance = 0.0001\n",
    "l_rate = 0.01\n",
    "iterations = 5000"
   ]
  },
  {
   "cell_type": "code",
   "execution_count": 7,
   "metadata": {},
   "outputs": [
    {
     "data": {
      "text/plain": [
       "array([[0.],\n",
       "       [0.]])"
      ]
     },
     "execution_count": 7,
     "metadata": {},
     "output_type": "execute_result"
    }
   ],
   "source": [
    "theta"
   ]
  },
  {
   "cell_type": "code",
   "execution_count": 8,
   "metadata": {},
   "outputs": [
    {
     "data": {
      "text/plain": [
       "(array([[3.75360608],\n",
       "        [3.0866774 ]]),\n",
       " 1.0222778792747405)"
      ]
     },
     "execution_count": 8,
     "metadata": {},
     "output_type": "execute_result"
    }
   ],
   "source": [
    "grad_theta, grad_error = grad_descent(theta, l_rate, tolerance, iterations, X, y)\n",
    "grad_theta, grad_error"
   ]
  },
  {
   "cell_type": "code",
   "execution_count": 9,
   "metadata": {},
   "outputs": [],
   "source": [
    "n_data = len(X)\n",
    "bias = np.ones((n_data,1))\n",
    "\n",
    "x_train_b = np.append(bias, X, axis = 1)\n",
    "#x_train_b"
   ]
  },
  {
   "cell_type": "code",
   "execution_count": 10,
   "metadata": {},
   "outputs": [
    {
     "data": {
      "text/plain": [
       "array([[-1.09292489,  1.03302287, -1.21559585, -1.10428989, -1.94536545,\n",
       "         0.43931395, -0.84421083, -1.22386004,  0.99673265,  0.0370241 ,\n",
       "        -0.37002091,  1.00253113,  0.11863346, -0.99686692, -0.82766364,\n",
       "        -2.03556843, -0.50302048,  0.82847028,  0.25926853,  0.64861077,\n",
       "         0.55652652, -0.68862287, -0.76967787,  1.67844211,  0.64850037,\n",
       "         0.4817741 ,  2.72082258,  1.18330139, -0.61162892,  0.6161869 ,\n",
       "         0.74882503,  1.13241374,  1.55191384,  0.20066316,  0.2416971 ,\n",
       "        -0.18330927, -0.94271385, -0.07316254, -0.24755037, -1.65456358,\n",
       "        -0.59691818, -1.03300824,  0.84619492,  0.0698201 , -0.60866548,\n",
       "         0.89128418, -0.16851683, -0.49337122,  2.45242193, -0.31126064,\n",
       "         0.51564258, -1.04712846, -0.94772185, -0.79326334,  0.06773543,\n",
       "        -0.08491425, -0.73584883,  1.55880759, -1.27490644,  0.40006766,\n",
       "         0.15820508,  0.69497377,  0.25501223, -1.53526753,  0.70158944,\n",
       "         0.95995439, -1.06500002, -1.89485432, -0.15901887,  1.07421207,\n",
       "         0.68445443, -1.8365675 , -0.79302284,  0.14718602,  0.88338755,\n",
       "         0.84266695, -0.46271966, -0.34831196,  1.39407107,  1.87138025,\n",
       "         1.26168275, -0.46167312,  0.31874386, -0.31390663, -0.60880876,\n",
       "         0.40524283, -0.2119923 ,  0.21454446, -0.46265561, -1.06206385,\n",
       "        -0.70132663,  1.03114286,  1.61307594, -0.34144735, -0.15781556,\n",
       "         1.61259462, -2.75633758,  0.74153134, -0.72951355,  0.53613778]])"
      ]
     },
     "execution_count": 10,
     "metadata": {},
     "output_type": "execute_result"
    }
   ],
   "source": [
    "prediction = predict_func(theta[1:], theta[0], X)\n",
    "#prediction\n",
    "(prediction - y).T\n"
   ]
  },
  {
   "cell_type": "code",
   "execution_count": 11,
   "metadata": {},
   "outputs": [
    {
     "data": {
      "text/plain": [
       "array([[3.75360608],\n",
       "       [3.0866774 ]])"
      ]
     },
     "execution_count": 11,
     "metadata": {},
     "output_type": "execute_result"
    }
   ],
   "source": [
    "int_theta = 1 / (2*n_data) * np.dot(x_train_b.T, (prediction - y))\n",
    "int_theta * l_rate\n",
    "theta - int_theta * l_rate"
   ]
  }
 ],
 "metadata": {
  "kernelspec": {
   "display_name": "Python 3",
   "language": "python",
   "name": "python3"
  },
  "language_info": {
   "codemirror_mode": {
    "name": "ipython",
    "version": 3
   },
   "file_extension": ".py",
   "mimetype": "text/x-python",
   "name": "python",
   "nbconvert_exporter": "python",
   "pygments_lexer": "ipython3",
   "version": "3.7.6"
  }
 },
 "nbformat": 4,
 "nbformat_minor": 2
}
